{
 "cells": [
  {
   "cell_type": "markdown",
   "metadata": {},
   "source": [
    "# Project_Team_ID:- PTID-CDS-MAY-23-1529"
   ]
  },
  {
   "cell_type": "markdown",
   "metadata": {},
   "source": [
    "# Walking_&_Running_Classification_Code:-(PRCP 1013)"
   ]
  },
  {
   "cell_type": "markdown",
   "metadata": {},
   "source": [
    "# Context:-\n",
    "\n",
    "## This dataset contains accelerometer and gyroscope data associated when a person is running and walking. The target is to create a LSTM model to predict the state of body from input of sensor. We have created a model that predicts if a person is walking or running based on the data from accelerometer and gyroscope from both left and right direction. \n",
    "\n",
    "## The dataset contains a single file which represents 88588 sensor data samples collected from accelerometer and gyroscope. `\n",
    "\n",
    "## This data set contains 88588 user records and 11 columns, 44365 running  and 44223 walking records. In the dataset the column named Activity is used to divide groups into walking  or running.\n",
    "\n",
    "\n"
   ]
  },
  {
   "cell_type": "markdown",
   "metadata": {
    "id": "5u6-aLv75o-A"
   },
   "source": [
    "\n",
    " \n",
    "# Domain Analysis:-\n",
    "### Acceleration\n",
    "Acceleration (a) is the change in velocity (Δv) over the change in time (Δt), represented by the equation a = Δv/Δt. This allows you to measure how fast velocity changes in meters per second squared (m/s^2). Acceleration is also a vector quantity, so it includes both magnitude and direction\n",
    "The X axis is parallel with the device's screen, aligned with the top and bottom edges, in the left-right direction. The Y axis is parallel with the device's screen, aligned with the left and right edges, in the top-bottom direction. The Z axis is perpendicular to the device's screen, pointing up.\n",
    "\n",
    "  Time :- When activity starts.\n",
    "\n",
    "\n",
    "\n",
    " Username :- Name of the User.\n",
    "\n",
    "\n",
    " Wrist :- wrist\" refers to the hand on which the device was worn while recording, it can take only two values i.e., 0 for \"left\" and 1 for \"right\".\n",
    "\n",
    " Activity :- \"activity\" refers to the physical activity being performed during recording, 0 for \"walk\" and 1 for \"run\".\n",
    " \n",
    "### Gyroscope\n",
    "A gyroscope measures the rate at which a device rotates around a spatial axis.Devices have a three-axis gyroscope, which delivers rotation values in each of the three axes shown in Rotation values are measured in radians per second around the given axis. Rotation values may be positive or negative depending on the direction of rotation.The gyroscope measures rotation around the x, y, and z axes.\n",
    "\n",
    "## Business Problem:-\n",
    " This dataset is used to identify whether a user is walking or running"
   ]
  },
  {
   "cell_type": "markdown",
   "metadata": {},
   "source": [
    "## Import all Important Libraries:-"
   ]
  },
  {
   "cell_type": "code",
   "execution_count": null,
   "metadata": {},
   "outputs": [],
   "source": [
    "import pandas as pd\n",
    "import numpy as np\n",
    "import matplotlib.pyplot as plt\n",
    "%matplotlib inline\n",
    "import seaborn as sns\n",
    "from sklearn.model_selection import train_test_split\n",
    "from sklearn.metrics import accuracy_score, confusion_matrix, roc_curve, roc_auc_score\n",
    "from sklearn.metrics import f1_score\n",
    "from tensorflow import keras\n",
    "from tensorflow.keras import layers\n",
    "from sklearn.neural_network import MLPClassifier\n",
    "import math\n",
    "import warnings\n",
    "warnings.filterwarnings('ignore')"
   ]
  },
  {
   "cell_type": "code",
   "execution_count": 4,
   "metadata": {
    "id": "EE0RcgBV5o-K"
   },
   "outputs": [],
   "source": [
    "data=pd.read_csv('walkrun.csv')"
   ]
  },
  {
   "cell_type": "markdown",
   "metadata": {},
   "source": [
    "#### Import the CSV file of Walk & Run classification."
   ]
  },
  {
   "cell_type": "code",
   "execution_count": 5,
   "metadata": {
    "colab": {
     "base_uri": "https://localhost:8080/",
     "height": 357
    },
    "executionInfo": {
     "elapsed": 28,
     "status": "ok",
     "timestamp": 1691159054667,
     "user": {
      "displayName": "Praveen venkat",
      "userId": "05082049976145442125"
     },
     "user_tz": -330
    },
    "id": "WMDkn4yV5o-L",
    "outputId": "a12fdb75-f35b-423e-9dbb-522a2cff3385"
   },
   "outputs": [
    {
     "data": {
      "text/html": [
       "<div>\n",
       "<style scoped>\n",
       "    .dataframe tbody tr th:only-of-type {\n",
       "        vertical-align: middle;\n",
       "    }\n",
       "\n",
       "    .dataframe tbody tr th {\n",
       "        vertical-align: top;\n",
       "    }\n",
       "\n",
       "    .dataframe thead th {\n",
       "        text-align: right;\n",
       "    }\n",
       "</style>\n",
       "<table border=\"1\" class=\"dataframe\">\n",
       "  <thead>\n",
       "    <tr style=\"text-align: right;\">\n",
       "      <th></th>\n",
       "      <th>date</th>\n",
       "      <th>time</th>\n",
       "      <th>username</th>\n",
       "      <th>wrist</th>\n",
       "      <th>activity</th>\n",
       "      <th>acceleration_x</th>\n",
       "      <th>acceleration_y</th>\n",
       "      <th>acceleration_z</th>\n",
       "      <th>gyro_x</th>\n",
       "      <th>gyro_y</th>\n",
       "      <th>gyro_z</th>\n",
       "    </tr>\n",
       "  </thead>\n",
       "  <tbody>\n",
       "    <tr>\n",
       "      <th>0</th>\n",
       "      <td>2017-6-30</td>\n",
       "      <td>13:51:15:847724020</td>\n",
       "      <td>viktor</td>\n",
       "      <td>0</td>\n",
       "      <td>0</td>\n",
       "      <td>0.2650</td>\n",
       "      <td>-0.7814</td>\n",
       "      <td>-0.0076</td>\n",
       "      <td>-0.0590</td>\n",
       "      <td>0.0325</td>\n",
       "      <td>-2.9296</td>\n",
       "    </tr>\n",
       "    <tr>\n",
       "      <th>1</th>\n",
       "      <td>2017-6-30</td>\n",
       "      <td>13:51:16:246945023</td>\n",
       "      <td>viktor</td>\n",
       "      <td>0</td>\n",
       "      <td>0</td>\n",
       "      <td>0.6722</td>\n",
       "      <td>-1.1233</td>\n",
       "      <td>-0.2344</td>\n",
       "      <td>-0.1757</td>\n",
       "      <td>0.0208</td>\n",
       "      <td>0.1269</td>\n",
       "    </tr>\n",
       "    <tr>\n",
       "      <th>2</th>\n",
       "      <td>2017-6-30</td>\n",
       "      <td>13:51:16:446233987</td>\n",
       "      <td>viktor</td>\n",
       "      <td>0</td>\n",
       "      <td>0</td>\n",
       "      <td>0.4399</td>\n",
       "      <td>-1.4817</td>\n",
       "      <td>0.0722</td>\n",
       "      <td>-0.9105</td>\n",
       "      <td>0.1063</td>\n",
       "      <td>-2.4367</td>\n",
       "    </tr>\n",
       "    <tr>\n",
       "      <th>3</th>\n",
       "      <td>2017-6-30</td>\n",
       "      <td>13:51:16:646117985</td>\n",
       "      <td>viktor</td>\n",
       "      <td>0</td>\n",
       "      <td>0</td>\n",
       "      <td>0.3031</td>\n",
       "      <td>-0.8125</td>\n",
       "      <td>0.0888</td>\n",
       "      <td>0.1199</td>\n",
       "      <td>-0.4099</td>\n",
       "      <td>-2.9336</td>\n",
       "    </tr>\n",
       "    <tr>\n",
       "      <th>4</th>\n",
       "      <td>2017-6-30</td>\n",
       "      <td>13:51:16:846738994</td>\n",
       "      <td>viktor</td>\n",
       "      <td>0</td>\n",
       "      <td>0</td>\n",
       "      <td>0.4814</td>\n",
       "      <td>-0.9312</td>\n",
       "      <td>0.0359</td>\n",
       "      <td>0.0527</td>\n",
       "      <td>0.4379</td>\n",
       "      <td>2.4922</td>\n",
       "    </tr>\n",
       "  </tbody>\n",
       "</table>\n",
       "</div>"
      ],
      "text/plain": [
       "        date                time username  wrist  activity  acceleration_x  \\\n",
       "0  2017-6-30  13:51:15:847724020   viktor      0         0          0.2650   \n",
       "1  2017-6-30  13:51:16:246945023   viktor      0         0          0.6722   \n",
       "2  2017-6-30  13:51:16:446233987   viktor      0         0          0.4399   \n",
       "3  2017-6-30  13:51:16:646117985   viktor      0         0          0.3031   \n",
       "4  2017-6-30  13:51:16:846738994   viktor      0         0          0.4814   \n",
       "\n",
       "   acceleration_y  acceleration_z  gyro_x  gyro_y  gyro_z  \n",
       "0         -0.7814         -0.0076 -0.0590  0.0325 -2.9296  \n",
       "1         -1.1233         -0.2344 -0.1757  0.0208  0.1269  \n",
       "2         -1.4817          0.0722 -0.9105  0.1063 -2.4367  \n",
       "3         -0.8125          0.0888  0.1199 -0.4099 -2.9336  \n",
       "4         -0.9312          0.0359  0.0527  0.4379  2.4922  "
      ]
     },
     "execution_count": 5,
     "metadata": {},
     "output_type": "execute_result"
    }
   ],
   "source": [
    "data.head()"
   ]
  },
  {
   "cell_type": "markdown",
   "metadata": {},
   "source": [
    "#### Here we access the first 5 rows to see dataset for futher process."
   ]
  },
  {
   "cell_type": "code",
   "execution_count": 6,
   "metadata": {
    "colab": {
     "base_uri": "https://localhost:8080/"
    },
    "executionInfo": {
     "elapsed": 27,
     "status": "ok",
     "timestamp": 1691159054668,
     "user": {
      "displayName": "Praveen venkat",
      "userId": "05082049976145442125"
     },
     "user_tz": -330
    },
    "id": "7LZtQpjP5o-L",
    "outputId": "e44b8ace-c958-4f65-e4c6-b8117710e0a1"
   },
   "outputs": [
    {
     "data": {
      "text/plain": [
       "(88588, 11)"
      ]
     },
     "execution_count": 6,
     "metadata": {},
     "output_type": "execute_result"
    }
   ],
   "source": [
    "data.shape"
   ]
  },
  {
   "cell_type": "markdown",
   "metadata": {},
   "source": [
    "#### In this dataset , there are 88588 Rows and 11 Columns"
   ]
  },
  {
   "cell_type": "markdown",
   "metadata": {},
   "source": [
    "## Basic Checks:-"
   ]
  },
  {
   "cell_type": "code",
   "execution_count": 7,
   "metadata": {
    "colab": {
     "base_uri": "https://localhost:8080/"
    },
    "executionInfo": {
     "elapsed": 23,
     "status": "ok",
     "timestamp": 1691159054669,
     "user": {
      "displayName": "Praveen venkat",
      "userId": "05082049976145442125"
     },
     "user_tz": -330
    },
    "id": "eQXfiqUB5o-M",
    "outputId": "2d3e9a9f-395a-4e1c-e800-eab3febf5739"
   },
   "outputs": [
    {
     "data": {
      "text/plain": [
       "array(['viktor'], dtype=object)"
      ]
     },
     "execution_count": 7,
     "metadata": {},
     "output_type": "execute_result"
    }
   ],
   "source": [
    "data.username.unique()"
   ]
  },
  {
   "cell_type": "markdown",
   "metadata": {},
   "source": [
    "#### The datseta contains information about a user named Vicktor."
   ]
  },
  {
   "cell_type": "code",
   "execution_count": 8,
   "metadata": {
    "colab": {
     "base_uri": "https://localhost:8080/"
    },
    "executionInfo": {
     "elapsed": 21,
     "status": "ok",
     "timestamp": 1691159054670,
     "user": {
      "displayName": "Praveen venkat",
      "userId": "05082049976145442125"
     },
     "user_tz": -330
    },
    "id": "lauLMYnf5o-M",
    "outputId": "7f4c545b-61fa-4470-ff74-a8ac66c7a225"
   },
   "outputs": [
    {
     "data": {
      "text/plain": [
       "1    44365\n",
       "0    44223\n",
       "Name: activity, dtype: int64"
      ]
     },
     "execution_count": 8,
     "metadata": {},
     "output_type": "execute_result"
    }
   ],
   "source": [
    "data.activity.value_counts()"
   ]
  },
  {
   "cell_type": "markdown",
   "metadata": {},
   "source": [
    "#### For this dataset this is the target variable . In which there is no imbalance in data present."
   ]
  },
  {
   "cell_type": "code",
   "execution_count": 9,
   "metadata": {
    "colab": {
     "base_uri": "https://localhost:8080/"
    },
    "executionInfo": {
     "elapsed": 20,
     "status": "ok",
     "timestamp": 1691159054671,
     "user": {
      "displayName": "Praveen venkat",
      "userId": "05082049976145442125"
     },
     "user_tz": -330
    },
    "id": "SNLUTnkl5o-M",
    "outputId": "75dab9b4-b3bb-482e-b1b2-f5f9be6153f2"
   },
   "outputs": [
    {
     "data": {
      "text/plain": [
       "array([0, 1], dtype=int64)"
      ]
     },
     "execution_count": 9,
     "metadata": {},
     "output_type": "execute_result"
    }
   ],
   "source": [
    "data.wrist.unique()"
   ]
  },
  {
   "cell_type": "markdown",
   "metadata": {},
   "source": [
    "#### \"wrist \" shows in which hand the user has wear the sensors."
   ]
  },
  {
   "cell_type": "code",
   "execution_count": 10,
   "metadata": {
    "colab": {
     "base_uri": "https://localhost:8080/"
    },
    "executionInfo": {
     "elapsed": 18,
     "status": "ok",
     "timestamp": 1691159054671,
     "user": {
      "displayName": "Praveen venkat",
      "userId": "05082049976145442125"
     },
     "user_tz": -330
    },
    "id": "5yzrKfzJ5o-N",
    "outputId": "c8b83954-d295-467f-afc0-cdc466979630"
   },
   "outputs": [
    {
     "data": {
      "text/plain": [
       "viktor    88588\n",
       "Name: username, dtype: int64"
      ]
     },
     "execution_count": 10,
     "metadata": {},
     "output_type": "execute_result"
    }
   ],
   "source": [
    "data.username.value_counts()"
   ]
  },
  {
   "cell_type": "code",
   "execution_count": 11,
   "metadata": {
    "colab": {
     "base_uri": "https://localhost:8080/"
    },
    "executionInfo": {
     "elapsed": 28,
     "status": "ok",
     "timestamp": 1691159055333,
     "user": {
      "displayName": "Praveen venkat",
      "userId": "05082049976145442125"
     },
     "user_tz": -330
    },
    "id": "lD6qobWX5o-N",
    "outputId": "da28010e-16ea-42d9-efd5-a54a4289c292"
   },
   "outputs": [
    {
     "data": {
      "text/plain": [
       "array(['date', 'time', 'username', 'wrist', 'activity', 'acceleration_x',\n",
       "       'acceleration_y', 'acceleration_z', 'gyro_x', 'gyro_y', 'gyro_z'],\n",
       "      dtype=object)"
      ]
     },
     "execution_count": 11,
     "metadata": {},
     "output_type": "execute_result"
    }
   ],
   "source": [
    "data.columns.values"
   ]
  },
  {
   "cell_type": "markdown",
   "metadata": {},
   "source": [
    "#### In this we retrieve the columns information."
   ]
  },
  {
   "cell_type": "code",
   "execution_count": 12,
   "metadata": {
    "colab": {
     "base_uri": "https://localhost:8080/"
    },
    "executionInfo": {
     "elapsed": 25,
     "status": "ok",
     "timestamp": 1691159055334,
     "user": {
      "displayName": "Praveen venkat",
      "userId": "05082049976145442125"
     },
     "user_tz": -330
    },
    "id": "YnRDJiYn5o-N",
    "outputId": "c4b5a2d5-de95-408d-d146-0c28155d3b86"
   },
   "outputs": [
    {
     "name": "stdout",
     "output_type": "stream",
     "text": [
      "<class 'pandas.core.frame.DataFrame'>\n",
      "RangeIndex: 88588 entries, 0 to 88587\n",
      "Data columns (total 11 columns):\n",
      " #   Column          Non-Null Count  Dtype  \n",
      "---  ------          --------------  -----  \n",
      " 0   date            88588 non-null  object \n",
      " 1   time            88588 non-null  object \n",
      " 2   username        88588 non-null  object \n",
      " 3   wrist           88588 non-null  int64  \n",
      " 4   activity        88588 non-null  int64  \n",
      " 5   acceleration_x  88588 non-null  float64\n",
      " 6   acceleration_y  88588 non-null  float64\n",
      " 7   acceleration_z  88588 non-null  float64\n",
      " 8   gyro_x          88588 non-null  float64\n",
      " 9   gyro_y          88588 non-null  float64\n",
      " 10  gyro_z          88588 non-null  float64\n",
      "dtypes: float64(6), int64(2), object(3)\n",
      "memory usage: 7.4+ MB\n"
     ]
    }
   ],
   "source": [
    "data.info()"
   ]
  },
  {
   "cell_type": "markdown",
   "metadata": {},
   "source": [
    "#### It basically gives all the information about the dataset whether it has the null value and the object type."
   ]
  },
  {
   "cell_type": "markdown",
   "metadata": {},
   "source": [
    "## Checking the Statistical Details:-"
   ]
  },
  {
   "cell_type": "code",
   "execution_count": 13,
   "metadata": {
    "colab": {
     "base_uri": "https://localhost:8080/",
     "height": 344
    },
    "executionInfo": {
     "elapsed": 22,
     "status": "ok",
     "timestamp": 1691159055334,
     "user": {
      "displayName": "Praveen venkat",
      "userId": "05082049976145442125"
     },
     "user_tz": -330
    },
    "id": "LphE3gSn5o-N",
    "outputId": "05ba97fc-5681-4fe0-a16d-b7119982f24d"
   },
   "outputs": [
    {
     "data": {
      "text/html": [
       "<div>\n",
       "<style scoped>\n",
       "    .dataframe tbody tr th:only-of-type {\n",
       "        vertical-align: middle;\n",
       "    }\n",
       "\n",
       "    .dataframe tbody tr th {\n",
       "        vertical-align: top;\n",
       "    }\n",
       "\n",
       "    .dataframe thead th {\n",
       "        text-align: right;\n",
       "    }\n",
       "</style>\n",
       "<table border=\"1\" class=\"dataframe\">\n",
       "  <thead>\n",
       "    <tr style=\"text-align: right;\">\n",
       "      <th></th>\n",
       "      <th>wrist</th>\n",
       "      <th>activity</th>\n",
       "      <th>acceleration_x</th>\n",
       "      <th>acceleration_y</th>\n",
       "      <th>acceleration_z</th>\n",
       "      <th>gyro_x</th>\n",
       "      <th>gyro_y</th>\n",
       "      <th>gyro_z</th>\n",
       "    </tr>\n",
       "  </thead>\n",
       "  <tbody>\n",
       "    <tr>\n",
       "      <th>count</th>\n",
       "      <td>88588.000000</td>\n",
       "      <td>88588.000000</td>\n",
       "      <td>88588.000000</td>\n",
       "      <td>88588.000000</td>\n",
       "      <td>88588.000000</td>\n",
       "      <td>88588.000000</td>\n",
       "      <td>88588.000000</td>\n",
       "      <td>88588.000000</td>\n",
       "    </tr>\n",
       "    <tr>\n",
       "      <th>mean</th>\n",
       "      <td>0.522170</td>\n",
       "      <td>0.500801</td>\n",
       "      <td>-0.074811</td>\n",
       "      <td>-0.562585</td>\n",
       "      <td>-0.313956</td>\n",
       "      <td>0.004160</td>\n",
       "      <td>0.037203</td>\n",
       "      <td>0.022327</td>\n",
       "    </tr>\n",
       "    <tr>\n",
       "      <th>std</th>\n",
       "      <td>0.499511</td>\n",
       "      <td>0.500002</td>\n",
       "      <td>1.009299</td>\n",
       "      <td>0.658458</td>\n",
       "      <td>0.486815</td>\n",
       "      <td>1.253423</td>\n",
       "      <td>1.198725</td>\n",
       "      <td>1.914423</td>\n",
       "    </tr>\n",
       "    <tr>\n",
       "      <th>min</th>\n",
       "      <td>0.000000</td>\n",
       "      <td>0.000000</td>\n",
       "      <td>-5.350500</td>\n",
       "      <td>-3.299000</td>\n",
       "      <td>-3.753800</td>\n",
       "      <td>-4.430600</td>\n",
       "      <td>-7.464700</td>\n",
       "      <td>-9.480000</td>\n",
       "    </tr>\n",
       "    <tr>\n",
       "      <th>25%</th>\n",
       "      <td>0.000000</td>\n",
       "      <td>0.000000</td>\n",
       "      <td>-0.381800</td>\n",
       "      <td>-1.033500</td>\n",
       "      <td>-0.376000</td>\n",
       "      <td>-0.920700</td>\n",
       "      <td>-0.644825</td>\n",
       "      <td>-1.345125</td>\n",
       "    </tr>\n",
       "    <tr>\n",
       "      <th>50%</th>\n",
       "      <td>1.000000</td>\n",
       "      <td>1.000000</td>\n",
       "      <td>-0.059500</td>\n",
       "      <td>-0.759100</td>\n",
       "      <td>-0.221000</td>\n",
       "      <td>0.018700</td>\n",
       "      <td>0.039300</td>\n",
       "      <td>0.006900</td>\n",
       "    </tr>\n",
       "    <tr>\n",
       "      <th>75%</th>\n",
       "      <td>1.000000</td>\n",
       "      <td>1.000000</td>\n",
       "      <td>0.355500</td>\n",
       "      <td>-0.241775</td>\n",
       "      <td>-0.085900</td>\n",
       "      <td>0.888800</td>\n",
       "      <td>0.733700</td>\n",
       "      <td>1.398200</td>\n",
       "    </tr>\n",
       "    <tr>\n",
       "      <th>max</th>\n",
       "      <td>1.000000</td>\n",
       "      <td>1.000000</td>\n",
       "      <td>5.603300</td>\n",
       "      <td>2.668000</td>\n",
       "      <td>1.640300</td>\n",
       "      <td>4.874200</td>\n",
       "      <td>8.498000</td>\n",
       "      <td>11.266200</td>\n",
       "    </tr>\n",
       "  </tbody>\n",
       "</table>\n",
       "</div>"
      ],
      "text/plain": [
       "              wrist      activity  acceleration_x  acceleration_y  \\\n",
       "count  88588.000000  88588.000000    88588.000000    88588.000000   \n",
       "mean       0.522170      0.500801       -0.074811       -0.562585   \n",
       "std        0.499511      0.500002        1.009299        0.658458   \n",
       "min        0.000000      0.000000       -5.350500       -3.299000   \n",
       "25%        0.000000      0.000000       -0.381800       -1.033500   \n",
       "50%        1.000000      1.000000       -0.059500       -0.759100   \n",
       "75%        1.000000      1.000000        0.355500       -0.241775   \n",
       "max        1.000000      1.000000        5.603300        2.668000   \n",
       "\n",
       "       acceleration_z        gyro_x        gyro_y        gyro_z  \n",
       "count    88588.000000  88588.000000  88588.000000  88588.000000  \n",
       "mean        -0.313956      0.004160      0.037203      0.022327  \n",
       "std          0.486815      1.253423      1.198725      1.914423  \n",
       "min         -3.753800     -4.430600     -7.464700     -9.480000  \n",
       "25%         -0.376000     -0.920700     -0.644825     -1.345125  \n",
       "50%         -0.221000      0.018700      0.039300      0.006900  \n",
       "75%         -0.085900      0.888800      0.733700      1.398200  \n",
       "max          1.640300      4.874200      8.498000     11.266200  "
      ]
     },
     "execution_count": 13,
     "metadata": {},
     "output_type": "execute_result"
    }
   ],
   "source": [
    "data.describe()"
   ]
  },
  {
   "cell_type": "markdown",
   "metadata": {},
   "source": [
    "#### It gives us the Statistical knowledge what our data has like Mean, Median, Standard Deviation, Total Nos. of data present etc."
   ]
  },
  {
   "cell_type": "markdown",
   "metadata": {
    "id": "2O7ote5t5o-O"
   },
   "source": [
    "# Data Cleaning:-"
   ]
  },
  {
   "cell_type": "code",
   "execution_count": 14,
   "metadata": {
    "id": "viT-c-K05o-O"
   },
   "outputs": [],
   "source": [
    "data.drop(columns=['date', 'time'],inplace=True)"
   ]
  },
  {
   "cell_type": "markdown",
   "metadata": {},
   "source": [
    "#### For this dataset we dont need of Date and time."
   ]
  },
  {
   "cell_type": "code",
   "execution_count": 15,
   "metadata": {
    "colab": {
     "base_uri": "https://localhost:8080/"
    },
    "executionInfo": {
     "elapsed": 22,
     "status": "ok",
     "timestamp": 1691159055335,
     "user": {
      "displayName": "Praveen venkat",
      "userId": "05082049976145442125"
     },
     "user_tz": -330
    },
    "id": "YRCNvahc5o-O",
    "outputId": "11583dad-b24c-4eea-b2e4-43159fd01fff"
   },
   "outputs": [
    {
     "name": "stdout",
     "output_type": "stream",
     "text": [
      "(88588, 9)\n"
     ]
    }
   ],
   "source": [
    "data = data.drop_duplicates()\n",
    "print(data.shape)"
   ]
  },
  {
   "cell_type": "markdown",
   "metadata": {},
   "source": [
    "#### In this there is no duplicate values present."
   ]
  },
  {
   "cell_type": "markdown",
   "metadata": {},
   "source": [
    "## Checking for Missing Values:-"
   ]
  },
  {
   "cell_type": "code",
   "execution_count": 16,
   "metadata": {
    "colab": {
     "base_uri": "https://localhost:8080/"
    },
    "executionInfo": {
     "elapsed": 19,
     "status": "ok",
     "timestamp": 1691159055335,
     "user": {
      "displayName": "Praveen venkat",
      "userId": "05082049976145442125"
     },
     "user_tz": -330
    },
    "id": "HvAM95lc5o-O",
    "outputId": "7fad4b41-346d-4832-f867-b8b8bafd3010"
   },
   "outputs": [
    {
     "data": {
      "text/plain": [
       "username          0\n",
       "wrist             0\n",
       "activity          0\n",
       "acceleration_x    0\n",
       "acceleration_y    0\n",
       "acceleration_z    0\n",
       "gyro_x            0\n",
       "gyro_y            0\n",
       "gyro_z            0\n",
       "dtype: int64"
      ]
     },
     "execution_count": 16,
     "metadata": {},
     "output_type": "execute_result"
    }
   ],
   "source": [
    "data.isnull().sum()"
   ]
  },
  {
   "cell_type": "markdown",
   "metadata": {},
   "source": [
    "#### No Null values are presents."
   ]
  },
  {
   "cell_type": "code",
   "execution_count": 17,
   "metadata": {
    "id": "zdg0m51L5o-O"
   },
   "outputs": [],
   "source": [
    "accel =[]\n",
    "def accleration(x,y,z):\n",
    "\n",
    "    s=(x*x)+(y*y)+(z*z)\n",
    "    acceleration=y=(math.sqrt(s))\n",
    "    accel.append(acceleration)"
   ]
  },
  {
   "cell_type": "markdown",
   "metadata": {},
   "source": [
    "#### This function is used to calculate acceleration from acceleration coordinates."
   ]
  },
  {
   "cell_type": "code",
   "execution_count": 18,
   "metadata": {
    "id": "2viIPewY5o-O"
   },
   "outputs": [],
   "source": [
    "result = [accleration(x, y,z) for x, y ,z in zip(data['acceleration_x'], data['acceleration_y'],data['acceleration_z'])]"
   ]
  },
  {
   "cell_type": "markdown",
   "metadata": {},
   "source": [
    "#### It goes throuh all the rows in the coloumn and get x,y,z acceleration coordinates"
   ]
  },
  {
   "cell_type": "code",
   "execution_count": 19,
   "metadata": {
    "id": "ZRFUOaMr5o-O"
   },
   "outputs": [],
   "source": [
    "data[\"acceleration\"]=\"\""
   ]
  },
  {
   "cell_type": "markdown",
   "metadata": {},
   "source": [
    "#### Now create a new coloumn to store acceleration values."
   ]
  },
  {
   "cell_type": "code",
   "execution_count": 20,
   "metadata": {
    "id": "WkAC5SPY5o-P"
   },
   "outputs": [],
   "source": [
    "data['acceleration']=pd.Series(accel)"
   ]
  },
  {
   "cell_type": "markdown",
   "metadata": {},
   "source": [
    "#### Now we store values."
   ]
  },
  {
   "cell_type": "code",
   "execution_count": 21,
   "metadata": {
    "colab": {
     "base_uri": "https://localhost:8080/",
     "height": 468
    },
    "executionInfo": {
     "elapsed": 18,
     "status": "ok",
     "timestamp": 1691159055337,
     "user": {
      "displayName": "Praveen venkat",
      "userId": "05082049976145442125"
     },
     "user_tz": -330
    },
    "id": "s5dZGhHE5o-P",
    "outputId": "b1091a99-00a6-4673-f09f-7466812d7a51"
   },
   "outputs": [
    {
     "data": {
      "text/html": [
       "<div>\n",
       "<style scoped>\n",
       "    .dataframe tbody tr th:only-of-type {\n",
       "        vertical-align: middle;\n",
       "    }\n",
       "\n",
       "    .dataframe tbody tr th {\n",
       "        vertical-align: top;\n",
       "    }\n",
       "\n",
       "    .dataframe thead th {\n",
       "        text-align: right;\n",
       "    }\n",
       "</style>\n",
       "<table border=\"1\" class=\"dataframe\">\n",
       "  <thead>\n",
       "    <tr style=\"text-align: right;\">\n",
       "      <th></th>\n",
       "      <th>username</th>\n",
       "      <th>wrist</th>\n",
       "      <th>activity</th>\n",
       "      <th>acceleration_x</th>\n",
       "      <th>acceleration_y</th>\n",
       "      <th>acceleration_z</th>\n",
       "      <th>gyro_x</th>\n",
       "      <th>gyro_y</th>\n",
       "      <th>gyro_z</th>\n",
       "      <th>acceleration</th>\n",
       "    </tr>\n",
       "  </thead>\n",
       "  <tbody>\n",
       "    <tr>\n",
       "      <th>0</th>\n",
       "      <td>viktor</td>\n",
       "      <td>0</td>\n",
       "      <td>0</td>\n",
       "      <td>0.2650</td>\n",
       "      <td>-0.7814</td>\n",
       "      <td>-0.0076</td>\n",
       "      <td>-0.0590</td>\n",
       "      <td>0.0325</td>\n",
       "      <td>-2.9296</td>\n",
       "      <td>0.825148</td>\n",
       "    </tr>\n",
       "    <tr>\n",
       "      <th>1</th>\n",
       "      <td>viktor</td>\n",
       "      <td>0</td>\n",
       "      <td>0</td>\n",
       "      <td>0.6722</td>\n",
       "      <td>-1.1233</td>\n",
       "      <td>-0.2344</td>\n",
       "      <td>-0.1757</td>\n",
       "      <td>0.0208</td>\n",
       "      <td>0.1269</td>\n",
       "      <td>1.329887</td>\n",
       "    </tr>\n",
       "    <tr>\n",
       "      <th>2</th>\n",
       "      <td>viktor</td>\n",
       "      <td>0</td>\n",
       "      <td>0</td>\n",
       "      <td>0.4399</td>\n",
       "      <td>-1.4817</td>\n",
       "      <td>0.0722</td>\n",
       "      <td>-0.9105</td>\n",
       "      <td>0.1063</td>\n",
       "      <td>-2.4367</td>\n",
       "      <td>1.547307</td>\n",
       "    </tr>\n",
       "    <tr>\n",
       "      <th>3</th>\n",
       "      <td>viktor</td>\n",
       "      <td>0</td>\n",
       "      <td>0</td>\n",
       "      <td>0.3031</td>\n",
       "      <td>-0.8125</td>\n",
       "      <td>0.0888</td>\n",
       "      <td>0.1199</td>\n",
       "      <td>-0.4099</td>\n",
       "      <td>-2.9336</td>\n",
       "      <td>0.871729</td>\n",
       "    </tr>\n",
       "    <tr>\n",
       "      <th>4</th>\n",
       "      <td>viktor</td>\n",
       "      <td>0</td>\n",
       "      <td>0</td>\n",
       "      <td>0.4814</td>\n",
       "      <td>-0.9312</td>\n",
       "      <td>0.0359</td>\n",
       "      <td>0.0527</td>\n",
       "      <td>0.4379</td>\n",
       "      <td>2.4922</td>\n",
       "      <td>1.048889</td>\n",
       "    </tr>\n",
       "    <tr>\n",
       "      <th>...</th>\n",
       "      <td>...</td>\n",
       "      <td>...</td>\n",
       "      <td>...</td>\n",
       "      <td>...</td>\n",
       "      <td>...</td>\n",
       "      <td>...</td>\n",
       "      <td>...</td>\n",
       "      <td>...</td>\n",
       "      <td>...</td>\n",
       "      <td>...</td>\n",
       "    </tr>\n",
       "    <tr>\n",
       "      <th>88583</th>\n",
       "      <td>viktor</td>\n",
       "      <td>0</td>\n",
       "      <td>0</td>\n",
       "      <td>0.3084</td>\n",
       "      <td>-0.8376</td>\n",
       "      <td>-0.1327</td>\n",
       "      <td>0.4823</td>\n",
       "      <td>2.0124</td>\n",
       "      <td>0.6048</td>\n",
       "      <td>0.902382</td>\n",
       "    </tr>\n",
       "    <tr>\n",
       "      <th>88584</th>\n",
       "      <td>viktor</td>\n",
       "      <td>0</td>\n",
       "      <td>0</td>\n",
       "      <td>0.4977</td>\n",
       "      <td>-1.0027</td>\n",
       "      <td>-0.4397</td>\n",
       "      <td>0.1022</td>\n",
       "      <td>-1.2565</td>\n",
       "      <td>-0.0761</td>\n",
       "      <td>1.202684</td>\n",
       "    </tr>\n",
       "    <tr>\n",
       "      <th>88585</th>\n",
       "      <td>viktor</td>\n",
       "      <td>0</td>\n",
       "      <td>0</td>\n",
       "      <td>0.4587</td>\n",
       "      <td>-1.1780</td>\n",
       "      <td>-0.2827</td>\n",
       "      <td>-1.4500</td>\n",
       "      <td>-0.2792</td>\n",
       "      <td>-1.2616</td>\n",
       "      <td>1.295380</td>\n",
       "    </tr>\n",
       "    <tr>\n",
       "      <th>88586</th>\n",
       "      <td>viktor</td>\n",
       "      <td>0</td>\n",
       "      <td>0</td>\n",
       "      <td>0.2590</td>\n",
       "      <td>-0.8582</td>\n",
       "      <td>-0.0759</td>\n",
       "      <td>-1.5165</td>\n",
       "      <td>0.4560</td>\n",
       "      <td>-1.7755</td>\n",
       "      <td>0.899638</td>\n",
       "    </tr>\n",
       "    <tr>\n",
       "      <th>88587</th>\n",
       "      <td>viktor</td>\n",
       "      <td>0</td>\n",
       "      <td>0</td>\n",
       "      <td>0.3140</td>\n",
       "      <td>-0.8008</td>\n",
       "      <td>-0.0911</td>\n",
       "      <td>0.1183</td>\n",
       "      <td>1.0850</td>\n",
       "      <td>1.2814</td>\n",
       "      <td>0.864972</td>\n",
       "    </tr>\n",
       "  </tbody>\n",
       "</table>\n",
       "<p>88588 rows × 10 columns</p>\n",
       "</div>"
      ],
      "text/plain": [
       "      username  wrist  activity  acceleration_x  acceleration_y  \\\n",
       "0       viktor      0         0          0.2650         -0.7814   \n",
       "1       viktor      0         0          0.6722         -1.1233   \n",
       "2       viktor      0         0          0.4399         -1.4817   \n",
       "3       viktor      0         0          0.3031         -0.8125   \n",
       "4       viktor      0         0          0.4814         -0.9312   \n",
       "...        ...    ...       ...             ...             ...   \n",
       "88583   viktor      0         0          0.3084         -0.8376   \n",
       "88584   viktor      0         0          0.4977         -1.0027   \n",
       "88585   viktor      0         0          0.4587         -1.1780   \n",
       "88586   viktor      0         0          0.2590         -0.8582   \n",
       "88587   viktor      0         0          0.3140         -0.8008   \n",
       "\n",
       "       acceleration_z  gyro_x  gyro_y  gyro_z  acceleration  \n",
       "0             -0.0076 -0.0590  0.0325 -2.9296      0.825148  \n",
       "1             -0.2344 -0.1757  0.0208  0.1269      1.329887  \n",
       "2              0.0722 -0.9105  0.1063 -2.4367      1.547307  \n",
       "3              0.0888  0.1199 -0.4099 -2.9336      0.871729  \n",
       "4              0.0359  0.0527  0.4379  2.4922      1.048889  \n",
       "...               ...     ...     ...     ...           ...  \n",
       "88583         -0.1327  0.4823  2.0124  0.6048      0.902382  \n",
       "88584         -0.4397  0.1022 -1.2565 -0.0761      1.202684  \n",
       "88585         -0.2827 -1.4500 -0.2792 -1.2616      1.295380  \n",
       "88586         -0.0759 -1.5165  0.4560 -1.7755      0.899638  \n",
       "88587         -0.0911  0.1183  1.0850  1.2814      0.864972  \n",
       "\n",
       "[88588 rows x 10 columns]"
      ]
     },
     "execution_count": 21,
     "metadata": {},
     "output_type": "execute_result"
    }
   ],
   "source": [
    "data"
   ]
  },
  {
   "cell_type": "markdown",
   "metadata": {
    "id": "cSSoM0gU5o-P"
   },
   "source": [
    "# Data Visualization:-"
   ]
  },
  {
   "cell_type": "markdown",
   "metadata": {},
   "source": [
    "## Univariate Analysis:-"
   ]
  },
  {
   "cell_type": "code",
   "execution_count": null,
   "metadata": {},
   "outputs": [],
   "source": [
    "!pip install sweetviz\n",
    "import sweetviz as sv\n",
    "my_report = sv.analyze(data)\n",
    "my_report.show_html()"
   ]
  },
  {
   "cell_type": "markdown",
   "metadata": {},
   "source": [
    "#### wrist:#0 :left :right more of the people wear the band on the right hand\n",
    "\n",
    "#### acceleration_x: most of the values are concentrated b/w -1 and 1\n",
    "\n",
    "#### acceleration_y: most of the values are concentrated b/w -1.5to 0 than it increases slowly and then decreases.\n",
    "\n",
    "#### acceleration_z:values in increses from -2 to 0 and then suddenly dips to 1\n",
    "\n",
    "#### gyro_x:most of the values are b/w -4 to 4\n",
    "\n",
    "#### gyro_y:most of the values are b/w -4 to 4\n",
    "\n",
    "#### gyro_z:most of the values are b/w -5 to 5"
   ]
  },
  {
   "cell_type": "code",
   "execution_count": 20,
   "metadata": {
    "colab": {
     "base_uri": "https://localhost:8080/",
     "height": 472
    },
    "executionInfo": {
     "elapsed": 700,
     "status": "ok",
     "timestamp": 1691159056020,
     "user": {
      "displayName": "Praveen venkat",
      "userId": "05082049976145442125"
     },
     "user_tz": -330
    },
    "id": "OUj9GTy85o-P",
    "outputId": "b5916e42-e7ed-43e3-d2f0-f8f73202ae8b"
   },
   "outputs": [
    {
     "data": {
      "text/plain": [
       "<Axes: xlabel='activity', ylabel='acceleration'>"
      ]
     },
     "execution_count": 20,
     "metadata": {},
     "output_type": "execute_result"
    },
    {
     "data": {
      "image/png": "[encoded data removed]",
      "text/plain": [
       "<Figure size 640x480 with 1 Axes>"
      ]
     },
     "metadata": {},
     "output_type": "display_data"
    }
   ],
   "source": [
    "sns.stripplot(x=\"activity\", y=\"acceleration\", data=data)"
   ]
  },
  {
   "cell_type": "markdown",
   "metadata": {},
   "source": [
    "#### Plotting acceleration to activity we can find that the acceleration is high in  activity 1 and we can determine activity 1 is running as the accleration is high.the maximum acceleration while walking is 2 and while running is 6."
   ]
  },
  {
   "cell_type": "code",
   "execution_count": 21,
   "metadata": {
    "colab": {
     "base_uri": "https://localhost:8080/"
    },
    "executionInfo": {
     "elapsed": 10,
     "status": "ok",
     "timestamp": 1691159056020,
     "user": {
      "displayName": "Praveen venkat",
      "userId": "05082049976145442125"
     },
     "user_tz": -330
    },
    "id": "j_faWRCe5o-P",
    "outputId": "86426e28-90df-41fe-d066-62de2fa5163e"
   },
   "outputs": [
    {
     "data": {
      "text/plain": [
       "1    46258\n",
       "0    42330\n",
       "Name: wrist, dtype: int64"
      ]
     },
     "execution_count": 21,
     "metadata": {},
     "output_type": "execute_result"
    }
   ],
   "source": [
    "data.wrist.value_counts()"
   ]
  },
  {
   "cell_type": "code",
   "execution_count": 22,
   "metadata": {
    "colab": {
     "base_uri": "https://localhost:8080/",
     "height": 635
    },
    "executionInfo": {
     "elapsed": 8464,
     "status": "ok",
     "timestamp": 1691159064479,
     "user": {
      "displayName": "Praveen venkat",
      "userId": "05082049976145442125"
     },
     "user_tz": -330
    },
    "id": "pDof5sx45o-P",
    "outputId": "3240fc2a-bbb0-4e0a-feb1-2ae1667f09dd"
   },
   "outputs": [
    {
     "data": {
      "text/plain": [
       "Text(0.5, 0, 'count')"
      ]
     },
     "execution_count": 22,
     "metadata": {},
     "output_type": "execute_result"
    },
    {
     "data": {
      "image/png": "[encoded data removed]",
      "text/plain": [
       "<Figure size 1600x900 with 1 Axes>"
      ]
     },
     "metadata": {},
     "output_type": "display_data"
    }
   ],
   "source": [
    "# Create a plot\n",
    "my_figsize = (16, 9)\n",
    "plt.figure(figsize=my_figsize)\n",
    "\n",
    "plt.title('gyroscope linechart')\n",
    "sns.lineplot(data=data['gyro_x'], label='gyro_x')\n",
    "sns.lineplot(data=data['gyro_y'], label='gyro_y')\n",
    "sns.lineplot(data=data['gyro_z'], label='gyro_z')\n",
    "plt.xlabel(\"count\")"
   ]
  },
  {
   "cell_type": "markdown",
   "metadata": {},
   "source": [
    "#### Gyroscope values are all over the place."
   ]
  },
  {
   "cell_type": "code",
   "execution_count": null,
   "metadata": {
    "colab": {
     "base_uri": "https://localhost:8080/",
     "height": 639
    },
    "executionInfo": {
     "elapsed": 5704,
     "status": "ok",
     "timestamp": 1691159070179,
     "user": {
      "displayName": "Praveen venkat",
      "userId": "05082049976145442125"
     },
     "user_tz": -330
    },
    "id": "4Ww6ScEj5o-P",
    "outputId": "2dc5dcc5-5488-463b-9f9a-228a101ebf00"
   },
   "outputs": [],
   "source": [
    "# Create a plot\n",
    "my_figsize = (16, 9)\n",
    "plt.figure(figsize=my_figsize)\n",
    "\n",
    "plt.title('Accelaration linechart')\n",
    "sns.lineplot(data=data['acceleration_x'], label='acceleration_x')\n",
    "sns.lineplot(data=data['acceleration_y'], label='acceleration_y')\n",
    "sns.lineplot(data=data['acceleration_z'], label='acceleration_z')\n",
    "plt.xlabel(\"count\")"
   ]
  },
  {
   "cell_type": "markdown",
   "metadata": {},
   "source": [
    "#### There is a high rate of change in x followed by  y and z.There is possibility that the spike in data is  while running and while walking there is less spike."
   ]
  },
  {
   "cell_type": "code",
   "execution_count": 24,
   "metadata": {
    "colab": {
     "base_uri": "https://localhost:8080/"
    },
    "executionInfo": {
     "elapsed": 16,
     "status": "ok",
     "timestamp": 1691159070180,
     "user": {
      "displayName": "Praveen venkat",
      "userId": "05082049976145442125"
     },
     "user_tz": -330
    },
    "id": "9cZhrcw35o-Q",
    "outputId": "e7f50999-d5fc-4558-b442-40678edec8b6"
   },
   "outputs": [
    {
     "data": {
      "text/plain": [
       "1    44365\n",
       "0    44223\n",
       "Name: activity, dtype: int64"
      ]
     },
     "execution_count": 24,
     "metadata": {},
     "output_type": "execute_result"
    }
   ],
   "source": [
    "data.activity.value_counts()"
   ]
  },
  {
   "cell_type": "code",
   "execution_count": 25,
   "metadata": {
    "colab": {
     "base_uri": "https://localhost:8080/",
     "height": 467
    },
    "executionInfo": {
     "elapsed": 11,
     "status": "ok",
     "timestamp": 1691159070180,
     "user": {
      "displayName": "Praveen venkat",
      "userId": "05082049976145442125"
     },
     "user_tz": -330
    },
    "id": "YFgkfctT5o-Q",
    "outputId": "9dfeec4b-8296-453a-856a-1d971989ae65",
    "scrolled": true
   },
   "outputs": [
    {
     "data": {
      "text/plain": [
       "<Axes: xlabel='wrist', ylabel='count'>"
      ]
     },
     "execution_count": 25,
     "metadata": {},
     "output_type": "execute_result"
    },
    {
     "data": {
      "image/png": "[encoded data removed]",
      "text/plain": [
       "<Figure size 640x480 with 1 Axes>"
      ]
     },
     "metadata": {},
     "output_type": "display_data"
    }
   ],
   "source": [
    "sns.countplot(x='wrist', data=data)"
   ]
  },
  {
   "cell_type": "markdown",
   "metadata": {},
   "source": [
    "#### 0 : Left\n",
    "#### 1 : Right\n",
    "#### Most of the people wear the band on the right hand."
   ]
  },
  {
   "cell_type": "code",
   "execution_count": 26,
   "metadata": {
    "colab": {
     "base_uri": "https://localhost:8080/",
     "height": 506
    },
    "executionInfo": {
     "elapsed": 1007,
     "status": "ok",
     "timestamp": 1691159071179,
     "user": {
      "displayName": "Praveen venkat",
      "userId": "05082049976145442125"
     },
     "user_tz": -330
    },
    "id": "72I1DOjU5o-Q",
    "outputId": "e7a770e9-95a7-4b5c-f04c-cec48e717e52"
   },
   "outputs": [
    {
     "data": {
      "image/png": "[encoded data removed]",
      "text/plain": [
       "<Figure size 500x500 with 1 Axes>"
      ]
     },
     "metadata": {},
     "output_type": "display_data"
    }
   ],
   "source": [
    "sns.displot(data['acceleration_x'],bins=60)"
   ]
  },
  {
   "cell_type": "markdown",
   "metadata": {},
   "source": [
    "#### Most of the values are concentrated b/w -1 and 1"
   ]
  },
  {
   "cell_type": "code",
   "execution_count": 27,
   "metadata": {
    "colab": {
     "base_uri": "https://localhost:8080/"
    },
    "executionInfo": {
     "elapsed": 19,
     "status": "ok",
     "timestamp": 1691159071180,
     "user": {
      "displayName": "Praveen venkat",
      "userId": "05082049976145442125"
     },
     "user_tz": -330
    },
    "id": "NS_ij8gi5o-Q",
    "outputId": "abe6d5a8-9527-46de-a7e9-27290c7a5f7d"
   },
   "outputs": [
    {
     "data": {
      "text/plain": [
       "count    88588.000000\n",
       "mean        -0.074811\n",
       "std          1.009299\n",
       "min         -5.350500\n",
       "25%         -0.381800\n",
       "50%         -0.059500\n",
       "75%          0.355500\n",
       "max          5.603300\n",
       "Name: acceleration_x, dtype: float64"
      ]
     },
     "execution_count": 27,
     "metadata": {},
     "output_type": "execute_result"
    }
   ],
   "source": [
    "data.acceleration_x.describe()"
   ]
  },
  {
   "cell_type": "code",
   "execution_count": 28,
   "metadata": {
    "colab": {
     "base_uri": "https://localhost:8080/",
     "height": 506
    },
    "executionInfo": {
     "elapsed": 14,
     "status": "ok",
     "timestamp": 1691159071180,
     "user": {
      "displayName": "Praveen venkat",
      "userId": "05082049976145442125"
     },
     "user_tz": -330
    },
    "id": "V_leP7qA5o-Q",
    "outputId": "058607f9-358d-463b-e738-d5dc744db8ff"
   },
   "outputs": [
    {
     "data": {
      "image/png": "[encoded data removed]",
      "text/plain": [
       "<Figure size 500x500 with 1 Axes>"
      ]
     },
     "metadata": {},
     "output_type": "display_data"
    }
   ],
   "source": [
    "sns.displot(data['acceleration_y'],bins=60);"
   ]
  },
  {
   "cell_type": "markdown",
   "metadata": {},
   "source": [
    "#### Most of the values are concentrated b/w -1.5to 0 than in increases slowly and then decreases."
   ]
  },
  {
   "cell_type": "code",
   "execution_count": 29,
   "metadata": {
    "colab": {
     "base_uri": "https://localhost:8080/"
    },
    "executionInfo": {
     "elapsed": 13,
     "status": "ok",
     "timestamp": 1691159071181,
     "user": {
      "displayName": "Praveen venkat",
      "userId": "05082049976145442125"
     },
     "user_tz": -330
    },
    "id": "tmYEZr_J5o-Q",
    "outputId": "6e87ff08-acaa-4b7e-bc14-7e7808e15cca"
   },
   "outputs": [
    {
     "data": {
      "text/plain": [
       "count    88588.000000\n",
       "mean        -0.562585\n",
       "std          0.658458\n",
       "min         -3.299000\n",
       "25%         -1.033500\n",
       "50%         -0.759100\n",
       "75%         -0.241775\n",
       "max          2.668000\n",
       "Name: acceleration_y, dtype: float64"
      ]
     },
     "execution_count": 29,
     "metadata": {},
     "output_type": "execute_result"
    }
   ],
   "source": [
    "data.acceleration_y.describe()"
   ]
  },
  {
   "cell_type": "code",
   "execution_count": 30,
   "metadata": {
    "colab": {
     "base_uri": "https://localhost:8080/",
     "height": 506
    },
    "executionInfo": {
     "elapsed": 900,
     "status": "ok",
     "timestamp": 1691159072070,
     "user": {
      "displayName": "Praveen venkat",
      "userId": "05082049976145442125"
     },
     "user_tz": -330
    },
    "id": "dX3Xui3V5o-Q",
    "outputId": "32334d9c-8e7f-42e3-9288-b2376ae61ad3"
   },
   "outputs": [
    {
     "data": {
      "image/png": "[encoded data removed]",
      "text/plain": [
       "<Figure size 500x500 with 1 Axes>"
      ]
     },
     "metadata": {},
     "output_type": "display_data"
    }
   ],
   "source": [
    "sns.displot(data['acceleration_z'],bins=60);"
   ]
  },
  {
   "cell_type": "markdown",
   "metadata": {},
   "source": [
    "#### Values in increses from -2 to 0 and then suddenly dips to 1"
   ]
  },
  {
   "cell_type": "code",
   "execution_count": 31,
   "metadata": {
    "colab": {
     "base_uri": "https://localhost:8080/"
    },
    "executionInfo": {
     "elapsed": 20,
     "status": "ok",
     "timestamp": 1691159072071,
     "user": {
      "displayName": "Praveen venkat",
      "userId": "05082049976145442125"
     },
     "user_tz": -330
    },
    "id": "tVMjPlA45o-R",
    "outputId": "1768fe75-c511-4dc8-d821-d3e40fbb008d"
   },
   "outputs": [
    {
     "data": {
      "text/plain": [
       "count    88588.000000\n",
       "mean        -0.313956\n",
       "std          0.486815\n",
       "min         -3.753800\n",
       "25%         -0.376000\n",
       "50%         -0.221000\n",
       "75%         -0.085900\n",
       "max          1.640300\n",
       "Name: acceleration_z, dtype: float64"
      ]
     },
     "execution_count": 31,
     "metadata": {},
     "output_type": "execute_result"
    }
   ],
   "source": [
    "data.acceleration_z.describe()"
   ]
  },
  {
   "cell_type": "code",
   "execution_count": 32,
   "metadata": {
    "colab": {
     "base_uri": "https://localhost:8080/",
     "height": 507
    },
    "executionInfo": {
     "elapsed": 15,
     "status": "ok",
     "timestamp": 1691159072071,
     "user": {
      "displayName": "Praveen venkat",
      "userId": "05082049976145442125"
     },
     "user_tz": -330
    },
    "id": "csSQV-Qt5o-R",
    "outputId": "3307c083-86c9-45e3-dcbd-13dffca2d3a9"
   },
   "outputs": [
    {
     "data": {
      "image/png": "[encoded data removed]",
      "text/plain": [
       "<Figure size 500x500 with 1 Axes>"
      ]
     },
     "metadata": {},
     "output_type": "display_data"
    }
   ],
   "source": [
    "sns.displot(data['gyro_x'],bins=60);"
   ]
  },
  {
   "cell_type": "markdown",
   "metadata": {},
   "source": [
    "#### Most of the values are b/w -4 to 4."
   ]
  },
  {
   "cell_type": "code",
   "execution_count": 32,
   "metadata": {},
   "outputs": [
    {
     "data": {
      "text/plain": [
       "count    88588.000000\n",
       "mean         0.004160\n",
       "std          1.253423\n",
       "min         -4.430600\n",
       "25%         -0.920700\n",
       "50%          0.018700\n",
       "75%          0.888800\n",
       "max          4.874200\n",
       "Name: gyro_x, dtype: float64"
      ]
     },
     "execution_count": 32,
     "metadata": {},
     "output_type": "execute_result"
    }
   ],
   "source": [
    "data.gyro_x.describe()"
   ]
  },
  {
   "cell_type": "code",
   "execution_count": 34,
   "metadata": {
    "colab": {
     "base_uri": "https://localhost:8080/",
     "height": 506
    },
    "executionInfo": {
     "elapsed": 457,
     "status": "ok",
     "timestamp": 1691159072522,
     "user": {
      "displayName": "Praveen venkat",
      "userId": "05082049976145442125"
     },
     "user_tz": -330
    },
    "id": "BqR2Pj-F5o-S",
    "outputId": "d579df55-5b19-471a-c44e-6ef2f149bc67"
   },
   "outputs": [
    {
     "data": {
      "image/png": "[encoded data removed]",
      "text/plain": [
       "<Figure size 500x500 with 1 Axes>"
      ]
     },
     "metadata": {},
     "output_type": "display_data"
    }
   ],
   "source": [
    "sns.displot(data['gyro_y'],bins=60);"
   ]
  },
  {
   "cell_type": "markdown",
   "metadata": {},
   "source": [
    "#### Most of the values are b/w -4 to 4"
   ]
  },
  {
   "cell_type": "code",
   "execution_count": 35,
   "metadata": {
    "colab": {
     "base_uri": "https://localhost:8080/"
    },
    "executionInfo": {
     "elapsed": 10,
     "status": "ok",
     "timestamp": 1691159072524,
     "user": {
      "displayName": "Praveen venkat",
      "userId": "05082049976145442125"
     },
     "user_tz": -330
    },
    "id": "AuENMdB45o-S",
    "outputId": "05e59dd3-42bf-4949-faaf-460f304a1654"
   },
   "outputs": [
    {
     "data": {
      "text/plain": [
       "count    88588.000000\n",
       "mean         0.037203\n",
       "std          1.198725\n",
       "min         -7.464700\n",
       "25%         -0.644825\n",
       "50%          0.039300\n",
       "75%          0.733700\n",
       "max          8.498000\n",
       "Name: gyro_y, dtype: float64"
      ]
     },
     "execution_count": 35,
     "metadata": {},
     "output_type": "execute_result"
    }
   ],
   "source": [
    "data.gyro_y.describe()"
   ]
  },
  {
   "cell_type": "code",
   "execution_count": 36,
   "metadata": {
    "colab": {
     "base_uri": "https://localhost:8080/",
     "height": 506
    },
    "executionInfo": {
     "elapsed": 464,
     "status": "ok",
     "timestamp": 1691159072982,
     "user": {
      "displayName": "Praveen venkat",
      "userId": "05082049976145442125"
     },
     "user_tz": -330
    },
    "id": "btn2Fs8f5o-S",
    "outputId": "a1c81b4a-c36e-498c-9577-dbdb46412224"
   },
   "outputs": [
    {
     "data": {
      "image/png": "[encoded data removed]",
      "text/plain": [
       "<Figure size 500x500 with 1 Axes>"
      ]
     },
     "metadata": {},
     "output_type": "display_data"
    }
   ],
   "source": [
    "sns.displot(data['gyro_z'],bins=60);"
   ]
  },
  {
   "cell_type": "markdown",
   "metadata": {},
   "source": [
    "#### Most of the values are b/w -5 to 5"
   ]
  },
  {
   "cell_type": "code",
   "execution_count": 37,
   "metadata": {
    "colab": {
     "base_uri": "https://localhost:8080/"
    },
    "executionInfo": {
     "elapsed": 11,
     "status": "ok",
     "timestamp": 1691159072983,
     "user": {
      "displayName": "Praveen venkat",
      "userId": "05082049976145442125"
     },
     "user_tz": -330
    },
    "id": "XpDY6xBp5o-S",
    "outputId": "8659a6d9-f00b-4736-8086-79363246a008"
   },
   "outputs": [
    {
     "data": {
      "text/plain": [
       "count    88588.000000\n",
       "mean         0.022327\n",
       "std          1.914423\n",
       "min         -9.480000\n",
       "25%         -1.345125\n",
       "50%          0.006900\n",
       "75%          1.398200\n",
       "max         11.266200\n",
       "Name: gyro_z, dtype: float64"
      ]
     },
     "execution_count": 37,
     "metadata": {},
     "output_type": "execute_result"
    }
   ],
   "source": [
    "data.gyro_z.describe()"
   ]
  },
  {
   "cell_type": "code",
   "execution_count": 38,
   "metadata": {
    "colab": {
     "base_uri": "https://localhost:8080/",
     "height": 286
    },
    "executionInfo": {
     "elapsed": 2118,
     "status": "ok",
     "timestamp": 1691159075097,
     "user": {
      "displayName": "Praveen venkat",
      "userId": "05082049976145442125"
     },
     "user_tz": -330
    },
    "id": "QLbpGfXN5o-S",
    "outputId": "e4717e53-d4df-44ff-e8bb-14de4c853ee4"
   },
   "outputs": [
    {
     "data": {
      "text/plain": [
       "<seaborn.axisgrid.PairGrid at 0x1de9c30ac50>"
      ]
     },
     "execution_count": 38,
     "metadata": {},
     "output_type": "execute_result"
    },
    {
     "data": {
      "image/png": "[encoded data removed]",
      "text/plain": [
       "<Figure size 750x250 with 3 Axes>"
      ]
     },
     "metadata": {},
     "output_type": "display_data"
    }
   ],
   "source": [
    "sns.pairplot(data=data,\n",
    "                  y_vars=['activity'],\n",
    "                  x_vars=['acceleration_x', 'acceleration_y', 'acceleration_z'])\n"
   ]
  },
  {
   "cell_type": "markdown",
   "metadata": {},
   "source": [
    "#### If you look at 3 plots we can find that ,if x cordinate is more than +-1.5  then the user is running.  if y cordinate is less than -2.0  then the user is running or if >0 user. If z cordinate is less than -1.7  then the user is running or if >.2(approx)."
   ]
  },
  {
   "cell_type": "code",
   "execution_count": 39,
   "metadata": {
    "colab": {
     "base_uri": "https://localhost:8080/",
     "height": 286
    },
    "executionInfo": {
     "elapsed": 1880,
     "status": "ok",
     "timestamp": 1691159076975,
     "user": {
      "displayName": "Praveen venkat",
      "userId": "05082049976145442125"
     },
     "user_tz": -330
    },
    "id": "uCVcFu8E5o-T",
    "outputId": "28602953-778a-4143-96e3-74e394d6d15f"
   },
   "outputs": [
    {
     "data": {
      "text/plain": [
       "<seaborn.axisgrid.PairGrid at 0x1de9fcaa210>"
      ]
     },
     "execution_count": 39,
     "metadata": {},
     "output_type": "execute_result"
    },
    {
     "data": {
      "image/png": "[encoded data removed]",
      "text/plain": [
       "<Figure size 750x250 with 3 Axes>"
      ]
     },
     "metadata": {},
     "output_type": "display_data"
    }
   ],
   "source": [
    "sns.pairplot(data=data,\n",
    "                  y_vars=['activity'],\n",
    "                  x_vars=['gyro_x', 'gyro_y', 'gyro_z'])"
   ]
  },
  {
   "cell_type": "markdown",
   "metadata": {},
   "source": [
    "#### If you look at 3 plots we can find that compared to accelerometer values ,we cannot make such conclusions here because there is only a less difference b/w walking and running in x and y gyroscope values but in Z cordinate. If the value is +-5 the user is running."
   ]
  },
  {
   "cell_type": "markdown",
   "metadata": {
    "id": "xHIRmHq85o-T"
   },
   "source": [
    "## Bivariate Analysis:-"
   ]
  },
  {
   "cell_type": "markdown",
   "metadata": {
    "id": "BMtC9gz35o-T"
   },
   "source": [
    "#### acceleration x :when the acceleration x is -1 to 1,it implies the user is walking and if b/w -4 to 4 the user is running\n",
    "\n",
    "#### acceleration y :if the acceleration is b/w -2 t 0,the user is walking and if b/w -2 to 2 the user is running\n",
    "\n",
    "#### acceleration z :if the acceleration is b/w -1 to 0,user is walking and if b/w 3 to 1 user is running\n",
    "\n",
    "#### NOTE:there is no big no huge difference blw values in gyro compared to accelerometer\n",
    "\n",
    "#### gyro x :if the gyro is b/w -3 t 3,the user is walking and if b/w -4 to 4 the user is running\n",
    "\n",
    "#### gyro y :if the gyro is b/w -4 t 4,the user is walking and if b/w -6 to 6 the user is running\n",
    "\n",
    "#### gyro z :if the gyro is b/w -5 t 5,the user is walking and if b/w -4.5 to 4.5 the user is running\n"
   ]
  },
  {
   "cell_type": "code",
   "execution_count": 40,
   "metadata": {
    "colab": {
     "base_uri": "https://localhost:8080/",
     "height": 716
    },
    "executionInfo": {
     "elapsed": 16966,
     "status": "ok",
     "timestamp": 1691159093938,
     "user": {
      "displayName": "Praveen venkat",
      "userId": "05082049976145442125"
     },
     "user_tz": -330
    },
    "id": "iEt6EFhe5o-T",
    "outputId": "29153fd4-0768-4cfe-a1a0-4eaf084fe7ff"
   },
   "outputs": [
    {
     "data": {
      "image/png": "[encoded data removed]",
      "text/plain": [
       "<Figure size 1500x2000 with 7 Axes>"
      ]
     },
     "metadata": {},
     "output_type": "display_data"
    }
   ],
   "source": [
    "box=data[['acceleration_x','acceleration_y','acceleration_z','gyro_x','gyro_y','gyro_z','acceleration']]\n",
    "plt.figure(figsize=(15,20), facecolor='white')\n",
    "\n",
    "plotnumber = 1\n",
    "\n",
    "for column in box:\n",
    "    if plotnumber<=8 :\n",
    "        ax = plt.subplot(8,2,plotnumber)\n",
    "        sns.stripplot(x='activity', y=box[column], hue=data.activity, data=data)\n",
    "        plt.xlabel(\"activity\",fontsize=20)\n",
    "        plt.tight_layout()\n",
    "    plotnumber+=1\n",
    "plt.show()"
   ]
  },
  {
   "cell_type": "markdown",
   "metadata": {
    "id": "eCPrG2mx5o-T"
   },
   "source": [
    "# Outlier Treatment:-"
   ]
  },
  {
   "cell_type": "code",
   "execution_count": 41,
   "metadata": {
    "colab": {
     "base_uri": "https://localhost:8080/",
     "height": 856
    },
    "executionInfo": {
     "elapsed": 1755,
     "status": "ok",
     "timestamp": 1691159095687,
     "user": {
      "displayName": "Praveen venkat",
      "userId": "05082049976145442125"
     },
     "user_tz": -330
    },
    "id": "BlH-lxBz5o-T",
    "outputId": "da3add58-df34-44e4-f9ab-1274faa5e388"
   },
   "outputs": [
    {
     "data": {
      "image/png": "[encoded data removed]",
      "text/plain": [
       "<Figure size 1500x2000 with 5 Axes>"
      ]
     },
     "metadata": {},
     "output_type": "display_data"
    }
   ],
   "source": [
    "box=data[['acceleration_x','acceleration_y','acceleration_z', 'gyro_x','gyro_y','gyro_z']]\n",
    "plt.figure(figsize=(15,20), facecolor='white')\n",
    "\n",
    "plotnumber = 1\n",
    "\n",
    "for column in box:\n",
    "    if plotnumber<=5 :\n",
    "        ax = plt.subplot(5,2,plotnumber)\n",
    "        sns.boxplot(x=box[column])\n",
    "        plt.xlabel(column,fontsize=20)\n",
    "        plt.tight_layout()\n",
    "    plotnumber+=1\n",
    "plt.show()"
   ]
  },
  {
   "cell_type": "markdown",
   "metadata": {},
   "source": [
    "#### There are outliers in almost all the featurs. Certain models like Logistic regression models, are highly influenced by outliers. So it is better to treat the outlier before using this model,or use a different model where outlier treatment is not necessary eg. Decision tree.in this case there are so many outliers ,in that case it should not be considered as outliers but valid data."
   ]
  },
  {
   "cell_type": "markdown",
   "metadata": {
    "id": "sWE4eP0z5o-U"
   },
   "source": [
    "# Feature Selection:-\n",
    "\n",
    "#### Feature selection is the process of reducing the number of input variables when developing a predictive model. It is desirable to reduce the number of input variables to both reduce the computational cost of modeling and, in some cases, to improve the performance of the model."
   ]
  },
  {
   "cell_type": "code",
   "execution_count": 42,
   "metadata": {
    "colab": {
     "base_uri": "https://localhost:8080/",
     "height": 1000
    },
    "executionInfo": {
     "elapsed": 1469,
     "status": "ok",
     "timestamp": 1691159097149,
     "user": {
      "displayName": "Praveen venkat",
      "userId": "05082049976145442125"
     },
     "user_tz": -330
    },
    "id": "L9Iz1Q6g5o-U",
    "outputId": "3c2c2312-211d-4a8e-9486-379efe816324"
   },
   "outputs": [
    {
     "data": {
      "text/plain": [
       "<Axes: >"
      ]
     },
     "execution_count": 42,
     "metadata": {},
     "output_type": "execute_result"
    },
    {
     "data": {
      "image/png": "[encoded data removed]",
      "text/plain": [
       "<Figure size 3000x3000 with 2 Axes>"
      ]
     },
     "metadata": {},
     "output_type": "display_data"
    }
   ],
   "source": [
    "plt.figure(figsize=(30, 30))\n",
    "sns.heatmap(data.corr(), annot=True, cmap=\"RdYlGn\", annot_kws={\"size\":10})"
   ]
  },
  {
   "cell_type": "markdown",
   "metadata": {},
   "source": [
    "#### Here we check the Correlation.There is no high correlation so,it is not wise to remove any features."
   ]
  },
  {
   "cell_type": "markdown",
   "metadata": {
    "id": "gWGEmE9T5o-U"
   },
   "source": [
    "# Model Creation:-\n",
    "\n",
    "## Logistic Regression:-\n"
   ]
  },
  {
   "cell_type": "markdown",
   "metadata": {},
   "source": [
    "#### Logistic regression is a statistical method used for binary classification. It models the relationship between input features and a binary outcome, estimating probabilities and making predictions in various fields, including machine learning and epidemiology.`"
   ]
  },
  {
   "cell_type": "code",
   "execution_count": 43,
   "metadata": {
    "id": "w2DdNF_R5o-U"
   },
   "outputs": [],
   "source": [
    "X = data.drop(columns = ['activity','acceleration','username'])\n",
    "y = data['activity']"
   ]
  },
  {
   "cell_type": "markdown",
   "metadata": {},
   "source": [
    "#### Here we do model creation."
   ]
  },
  {
   "cell_type": "code",
   "execution_count": 44,
   "metadata": {
    "id": "j49nkKoe5o-U"
   },
   "outputs": [],
   "source": [
    "X_train,X_test,y_train,y_test=train_test_split(X,y,test_size = 0.30,random_state=42)"
   ]
  },
  {
   "cell_type": "markdown",
   "metadata": {},
   "source": [
    "#### This function is used to split a dataset into two subsets: a training set and a test set. The training set is used to train the machine learning model, while the test set is used to evaluate the model's performance.\n",
    "\n",
    "#### In our code, the X and y variables are the features and labels of the dataset, respectively. The test_size parameter specifies the proportion of the dataset that should be used for the test set. In this case, you have specified test_size = 0.30, which means that 30% of the dataset will be used for the test set. The random_state parameter is used to ensure that the results of the split are reproducible."
   ]
  },
  {
   "cell_type": "markdown",
   "metadata": {},
   "source": [
    "#### Now we  split the training and testing data."
   ]
  },
  {
   "cell_type": "code",
   "execution_count": 45,
   "metadata": {
    "colab": {
     "base_uri": "https://localhost:8080/",
     "height": 75
    },
    "executionInfo": {
     "elapsed": 29,
     "status": "ok",
     "timestamp": 1691159097150,
     "user": {
      "displayName": "Praveen venkat",
      "userId": "05082049976145442125"
     },
     "user_tz": -330
    },
    "id": "dwNlCuXl5o-U",
    "outputId": "4dbaa5a1-3199-4fc4-817d-858130027efc"
   },
   "outputs": [
    {
     "data": {
      "text/html": [
       "<style>#sk-container-id-1 {color: black;background-color: white;}#sk-container-id-1 pre{padding: 0;}#sk-container-id-1 div.sk-toggleable {background-color: white;}#sk-container-id-1 label.sk-toggleable__label {cursor: pointer;display: block;width: 100%;margin-bottom: 0;padding: 0.3em;box-sizing: border-box;text-align: center;}#sk-container-id-1 label.sk-toggleable__label-arrow:before {content: \"▸\";float: left;margin-right: 0.25em;color: #696969;}#sk-container-id-1 label.sk-toggleable__label-arrow:hover:before {color: black;}#sk-container-id-1 div.sk-estimator:hover label.sk-toggleable__label-arrow:before {color: black;}#sk-container-id-1 div.sk-toggleable__content {max-height: 0;max-width: 0;overflow: hidden;text-align: left;background-color: #f0f8ff;}#sk-container-id-1 div.sk-toggleable__content pre {margin: 0.2em;color: black;border-radius: 0.25em;background-color: #f0f8ff;}#sk-container-id-1 input.sk-toggleable__control:checked~div.sk-toggleable__content {max-height: 200px;max-width: 100%;overflow: auto;}#sk-container-id-1 input.sk-toggleable__control:checked~label.sk-toggleable__label-arrow:before {content: \"▾\";}#sk-container-id-1 div.sk-estimator input.sk-toggleable__control:checked~label.sk-toggleable__label {background-color: #d4ebff;}#sk-container-id-1 div.sk-label input.sk-toggleable__control:checked~label.sk-toggleable__label {background-color: #d4ebff;}#sk-container-id-1 input.sk-hidden--visually {border: 0;clip: rect(1px 1px 1px 1px);clip: rect(1px, 1px, 1px, 1px);height: 1px;margin: -1px;overflow: hidden;padding: 0;position: absolute;width: 1px;}#sk-container-id-1 div.sk-estimator {font-family: monospace;background-color: #f0f8ff;border: 1px dotted black;border-radius: 0.25em;box-sizing: border-box;margin-bottom: 0.5em;}#sk-container-id-1 div.sk-estimator:hover {background-color: #d4ebff;}#sk-container-id-1 div.sk-parallel-item::after {content: \"\";width: 100%;border-bottom: 1px solid gray;flex-grow: 1;}#sk-container-id-1 div.sk-label:hover label.sk-toggleable__label {background-color: #d4ebff;}#sk-container-id-1 div.sk-serial::before {content: \"\";position: absolute;border-left: 1px solid gray;box-sizing: border-box;top: 0;bottom: 0;left: 50%;z-index: 0;}#sk-container-id-1 div.sk-serial {display: flex;flex-direction: column;align-items: center;background-color: white;padding-right: 0.2em;padding-left: 0.2em;position: relative;}#sk-container-id-1 div.sk-item {position: relative;z-index: 1;}#sk-container-id-1 div.sk-parallel {display: flex;align-items: stretch;justify-content: center;background-color: white;position: relative;}#sk-container-id-1 div.sk-item::before, #sk-container-id-1 div.sk-parallel-item::before {content: \"\";position: absolute;border-left: 1px solid gray;box-sizing: border-box;top: 0;bottom: 0;left: 50%;z-index: -1;}#sk-container-id-1 div.sk-parallel-item {display: flex;flex-direction: column;z-index: 1;position: relative;background-color: white;}#sk-container-id-1 div.sk-parallel-item:first-child::after {align-self: flex-end;width: 50%;}#sk-container-id-1 div.sk-parallel-item:last-child::after {align-self: flex-start;width: 50%;}#sk-container-id-1 div.sk-parallel-item:only-child::after {width: 0;}#sk-container-id-1 div.sk-dashed-wrapped {border: 1px dashed gray;margin: 0 0.4em 0.5em 0.4em;box-sizing: border-box;padding-bottom: 0.4em;background-color: white;}#sk-container-id-1 div.sk-label label {font-family: monospace;font-weight: bold;display: inline-block;line-height: 1.2em;}#sk-container-id-1 div.sk-label-container {text-align: center;}#sk-container-id-1 div.sk-container {/* jupyter's `normalize.less` sets `[hidden] { display: none; }` but bootstrap.min.css set `[hidden] { display: none !important; }` so we also need the `!important` here to be able to override the default hidden behavior on the sphinx rendered scikit-learn.org. See: https://github.com/scikit-learn/scikit-learn/issues/21755 */display: inline-block !important;position: relative;}#sk-container-id-1 div.sk-text-repr-fallback {display: none;}</style><div id=\"sk-container-id-1\" class=\"sk-top-container\"><div class=\"sk-text-repr-fallback\"><pre>LogisticRegression()</pre><b>In a Jupyter environment, please rerun this cell to show the HTML representation or trust the notebook. <br />On GitHub, the HTML representation is unable to render, please try loading this page with nbviewer.org.</b></div><div class=\"sk-container\" hidden><div class=\"sk-item\"><div class=\"sk-estimator sk-toggleable\"><input class=\"sk-toggleable__control sk-hidden--visually\" id=\"sk-estimator-id-1\" type=\"checkbox\" checked><label for=\"sk-estimator-id-1\" class=\"sk-toggleable__label sk-toggleable__label-arrow\">LogisticRegression</label><div class=\"sk-toggleable__content\"><pre>LogisticRegression()</pre></div></div></div></div></div>"
      ],
      "text/plain": [
       "LogisticRegression()"
      ]
     },
     "execution_count": 45,
     "metadata": {},
     "output_type": "execute_result"
    }
   ],
   "source": [
    "from sklearn.linear_model import LogisticRegression\n",
    "log_reg = LogisticRegression()\n",
    "log_reg.fit(X_train,y_train)"
   ]
  },
  {
   "cell_type": "markdown",
   "metadata": {},
   "source": [
    "#### We have created an instance of the LogisticRegression class called log_reg. We have then called the fit() method on the log_reg object to train the model on the training set data (X_train and y_train).\n",
    "#### The fit() method takes two arguments:\n",
    "#### X: The training set features.\n",
    "#### y: The training set labels.\n",
    "#### The fit() method will train the model on the training set data and learn the relationship between the features and the labels.\n",
    "#### Once the model is trained, you can use it to make predictions on new data."
   ]
  },
  {
   "cell_type": "code",
   "execution_count": 46,
   "metadata": {
    "id": "dXy2dpaB5o-U"
   },
   "outputs": [],
   "source": [
    "y_pred = log_reg.predict(X_test)"
   ]
  },
  {
   "cell_type": "markdown",
   "metadata": {},
   "source": [
    "#### The code is a call to the predict() method on the log_reg object. This method will make predictions on the test set data (X_test)."
   ]
  },
  {
   "cell_type": "code",
   "execution_count": 47,
   "metadata": {
    "colab": {
     "base_uri": "https://localhost:8080/"
    },
    "executionInfo": {
     "elapsed": 29,
     "status": "ok",
     "timestamp": 1691159097152,
     "user": {
      "displayName": "Praveen venkat",
      "userId": "05082049976145442125"
     },
     "user_tz": -330
    },
    "id": "hcXG68IF5o-V",
    "outputId": "6a734ff6-4d23-410e-d995-3ab4bc76105c"
   },
   "outputs": [
    {
     "name": "stdout",
     "output_type": "stream",
     "text": [
      "0.8633404823719758\n"
     ]
    }
   ],
   "source": [
    "## calculating accuracy\n",
    "from sklearn.metrics import accuracy_score,auc, confusion_matrix,precision_score,recall_score\n",
    "accuracy = accuracy_score(y_test,y_pred)\n",
    "print(accuracy)"
   ]
  },
  {
   "cell_type": "markdown",
   "metadata": {},
   "source": [
    "#### The Logistic Regression shows 86.33% accuracy"
   ]
  },
  {
   "cell_type": "code",
   "execution_count": 48,
   "metadata": {
    "colab": {
     "base_uri": "https://localhost:8080/"
    },
    "executionInfo": {
     "elapsed": 26,
     "status": "ok",
     "timestamp": 1691159097152,
     "user": {
      "displayName": "Praveen venkat",
      "userId": "05082049976145442125"
     },
     "user_tz": -330
    },
    "id": "I9-UO8OS5o-V",
    "outputId": "cb1f0a78-728e-445f-ee67-176ff86ab81f"
   },
   "outputs": [
    {
     "data": {
      "text/plain": [
       "0.8998913679284699"
      ]
     },
     "execution_count": 48,
     "metadata": {},
     "output_type": "execute_result"
    }
   ],
   "source": [
    "# Precison\n",
    "Precision = precision_score(y_test,y_pred)\n",
    "Precision"
   ]
  },
  {
   "cell_type": "markdown",
   "metadata": {},
   "source": [
    "#### The precision of a classification model is the fraction of the positive predictions that are actually positive. In other words, it is the percentage of the time that the model correctly predicts the positive class label for a data point that actually belongs to the positive class."
   ]
  },
  {
   "cell_type": "code",
   "execution_count": 49,
   "metadata": {
    "colab": {
     "base_uri": "https://localhost:8080/"
    },
    "executionInfo": {
     "elapsed": 25,
     "status": "ok",
     "timestamp": 1691159097153,
     "user": {
      "displayName": "Praveen venkat",
      "userId": "05082049976145442125"
     },
     "user_tz": -330
    },
    "id": "J_mLHNmn5o-V",
    "outputId": "04cdc3a0-6dc5-4044-bf47-9821940ff1f1"
   },
   "outputs": [
    {
     "data": {
      "text/plain": [
       "0.8156479587972431"
      ]
     },
     "execution_count": 49,
     "metadata": {},
     "output_type": "execute_result"
    }
   ],
   "source": [
    "# Recall\n",
    "Recall = recall_score(y_test,y_pred)\n",
    "Recall\n"
   ]
  },
  {
   "cell_type": "markdown",
   "metadata": {},
   "source": [
    "#### The recall of a classification model is the fraction of the positive instances that are correctly identified. In other words, it is the percentage of the time that the model correctly predicts the positive class label for a data point that actually belongs to the positive class."
   ]
  },
  {
   "cell_type": "code",
   "execution_count": 50,
   "metadata": {
    "colab": {
     "base_uri": "https://localhost:8080/"
    },
    "executionInfo": {
     "elapsed": 23,
     "status": "ok",
     "timestamp": 1691159097153,
     "user": {
      "displayName": "Praveen venkat",
      "userId": "05082049976145442125"
     },
     "user_tz": -330
    },
    "id": "HrAmP6ZU5o-V",
    "outputId": "acbe1f1d-b3d2-4462-ca17-dae0d6b35c40"
   },
   "outputs": [
    {
     "data": {
      "text/plain": [
       "0.8557012316249504"
      ]
     },
     "execution_count": 50,
     "metadata": {},
     "output_type": "execute_result"
    }
   ],
   "source": [
    "# F1 Score\n",
    "F1_Score = f1_score(y_test,y_pred)\n",
    "F1_Score"
   ]
  },
  {
   "cell_type": "markdown",
   "metadata": {},
   "source": [
    "#### The F1 score is a measure of a model's accuracy that takes both precision and recall into account. It is calculated as the harmonic mean of precision and recall."
   ]
  },
  {
   "cell_type": "code",
   "execution_count": 51,
   "metadata": {
    "colab": {
     "base_uri": "https://localhost:8080/"
    },
    "executionInfo": {
     "elapsed": 22,
     "status": "ok",
     "timestamp": 1691159097154,
     "user": {
      "displayName": "Praveen venkat",
      "userId": "05082049976145442125"
     },
     "user_tz": -330
    },
    "id": "K8Dp-ZUo5o-V",
    "outputId": "3caa0340-bb93-48fb-94de-3f529635c5e1"
   },
   "outputs": [
    {
     "data": {
      "text/plain": [
       "0.8630355840045734"
      ]
     },
     "execution_count": 51,
     "metadata": {},
     "output_type": "execute_result"
    }
   ],
   "source": [
    "# Area Under Curve\n",
    "auc = roc_auc_score(y_test, y_pred)\n",
    "auc"
   ]
  },
  {
   "cell_type": "markdown",
   "metadata": {},
   "source": [
    "#### The AUC is a measure of the overall performance of a binary classification model. It is calculated as the area under the ROC curve, which is a graphical plot of the true positive rate (TPR) against the false positive rate (FPR). The TPR is the percentage of positive instances that are correctly classified, while the FPR is the percentage of negative instances that are incorrectly classified."
   ]
  },
  {
   "cell_type": "code",
   "execution_count": 52,
   "metadata": {
    "colab": {
     "base_uri": "https://localhost:8080/",
     "height": 143
    },
    "executionInfo": {
     "elapsed": 21,
     "status": "ok",
     "timestamp": 1691159097154,
     "user": {
      "displayName": "Praveen venkat",
      "userId": "05082049976145442125"
     },
     "user_tz": -330
    },
    "id": "DM4MzWhu5o-V",
    "outputId": "0507e809-4395-476a-dbf5-23b67f77fed7",
    "scrolled": true
   },
   "outputs": [
    {
     "data": {
      "text/html": [
       "<div>\n",
       "<style scoped>\n",
       "    .dataframe tbody tr th:only-of-type {\n",
       "        vertical-align: middle;\n",
       "    }\n",
       "\n",
       "    .dataframe tbody tr th {\n",
       "        vertical-align: top;\n",
       "    }\n",
       "\n",
       "    .dataframe thead th {\n",
       "        text-align: right;\n",
       "    }\n",
       "</style>\n",
       "<table border=\"1\" class=\"dataframe\">\n",
       "  <thead>\n",
       "    <tr style=\"text-align: right;\">\n",
       "      <th>col_0</th>\n",
       "      <th>0</th>\n",
       "      <th>1</th>\n",
       "    </tr>\n",
       "    <tr>\n",
       "      <th>activity</th>\n",
       "      <th></th>\n",
       "      <th></th>\n",
       "    </tr>\n",
       "  </thead>\n",
       "  <tbody>\n",
       "    <tr>\n",
       "      <th>0</th>\n",
       "      <td>12176</td>\n",
       "      <td>1198</td>\n",
       "    </tr>\n",
       "    <tr>\n",
       "      <th>1</th>\n",
       "      <td>2434</td>\n",
       "      <td>10769</td>\n",
       "    </tr>\n",
       "  </tbody>\n",
       "</table>\n",
       "</div>"
      ],
      "text/plain": [
       "col_0         0      1\n",
       "activity              \n",
       "0         12176   1198\n",
       "1          2434  10769"
      ]
     },
     "execution_count": 52,
     "metadata": {},
     "output_type": "execute_result"
    }
   ],
   "source": [
    "pd.crosstab(y_test, y_pred)"
   ]
  },
  {
   "cell_type": "markdown",
   "metadata": {},
   "source": [
    "#### The crosstab() function returns a Pandas DataFrame object. The DataFrame will have two columns: the first column will contain the true labels, and the second column will contain the predicted labels. The rows of the DataFrame will correspond to the unique values in the true labels column."
   ]
  },
  {
   "cell_type": "code",
   "execution_count": 53,
   "metadata": {
    "colab": {
     "base_uri": "https://localhost:8080/"
    },
    "executionInfo": {
     "elapsed": 1276,
     "status": "ok",
     "timestamp": 1691159098410,
     "user": {
      "displayName": "Praveen venkat",
      "userId": "05082049976145442125"
     },
     "user_tz": -330
    },
    "id": "ZRvTBVDx5o-W",
    "outputId": "506966ea-44b3-483b-87b8-5cb3d7539704"
   },
   "outputs": [
    {
     "name": "stdout",
     "output_type": "stream",
     "text": [
      "              precision    recall  f1-score   support\n",
      "\n",
      "           0       0.83      0.91      0.87     13374\n",
      "           1       0.90      0.82      0.86     13203\n",
      "\n",
      "    accuracy                           0.86     26577\n",
      "   macro avg       0.87      0.86      0.86     26577\n",
      "weighted avg       0.87      0.86      0.86     26577\n",
      "\n"
     ]
    }
   ],
   "source": [
    "from sklearn.metrics import classification_report\n",
    "report=classification_report(y_test, y_pred)\n",
    "print(report)"
   ]
  },
  {
   "cell_type": "markdown",
   "metadata": {},
   "source": [
    "#### The classification_report() function returns a string containing a table of metrics that summarize the performance of the model. The metrics include:\n",
    "\n",
    "#### Accuracy: The fraction of the predictions that are correct.\n",
    "#### Precision: The fraction of the positive predictions that are actually positive.\n",
    "#### Recall: The fraction of the positive instances that are correctly identified.\n",
    "#### F1 score: A measure of a model's accuracy that takes both precision and recall into account.\n",
    "#### Support: The number of instances in the true label set."
   ]
  },
  {
   "cell_type": "code",
   "execution_count": 54,
   "metadata": {
    "id": "lntsB_aL5o-W"
   },
   "outputs": [],
   "source": [
    "fpr,tpr,threshold=roc_curve(y_test, y_pred)"
   ]
  },
  {
   "cell_type": "markdown",
   "metadata": {},
   "source": [
    "#### The fpr is the percentage of negative instances that are incorrectly classified as positive. The tpr is the percentage of positive instances that are correctly classified as positive. The threshold is a value that is used to decide whether an instance is classified as positive or negative"
   ]
  },
  {
   "cell_type": "code",
   "execution_count": 55,
   "metadata": {
    "colab": {
     "base_uri": "https://localhost:8080/"
    },
    "executionInfo": {
     "elapsed": 37,
     "status": "ok",
     "timestamp": 1691159098411,
     "user": {
      "displayName": "Praveen venkat",
      "userId": "05082049976145442125"
     },
     "user_tz": -330
    },
    "id": "K8jWjMUV5o-W",
    "outputId": "ee2044d4-f569-4561-b67f-823a08c7339e"
   },
   "outputs": [
    {
     "name": "stdout",
     "output_type": "stream",
     "text": [
      "[2 1 0]\n"
     ]
    }
   ],
   "source": [
    "print (threshold)"
   ]
  },
  {
   "cell_type": "code",
   "execution_count": 56,
   "metadata": {
    "colab": {
     "base_uri": "https://localhost:8080/",
     "height": 472
    },
    "executionInfo": {
     "elapsed": 35,
     "status": "ok",
     "timestamp": 1691159098412,
     "user": {
      "displayName": "Praveen venkat",
      "userId": "05082049976145442125"
     },
     "user_tz": -330
    },
    "id": "DaOHJnTa5o-W",
    "outputId": "102b6171-730c-4563-d6ad-0794771b98e6"
   },
   "outputs": [
    {
     "data": {
      "image/png": "[encoded data removed]",
      "text/plain": [
       "<Figure size 640x480 with 1 Axes>"
      ]
     },
     "metadata": {},
     "output_type": "display_data"
    }
   ],
   "source": [
    "plt.plot(fpr, tpr, color='orange', label='ROC')\n",
    "plt.plot([0, 1], [0, 1], color='darkblue', linestyle='--',label='ROC curve (area = %0.2f)' % auc)\n",
    "plt.xlabel('False Positive Rate')\n",
    "plt.ylabel('True Positive Rate')\n",
    "plt.title('Receiver Operating Characteristic (ROC) Curve')\n",
    "plt.legend()\n",
    "plt.show()"
   ]
  },
  {
   "cell_type": "code",
   "execution_count": 57,
   "metadata": {
    "colab": {
     "base_uri": "https://localhost:8080/",
     "height": 561
    },
    "executionInfo": {
     "elapsed": 34,
     "status": "ok",
     "timestamp": 1691159098412,
     "user": {
      "displayName": "Praveen venkat",
      "userId": "05082049976145442125"
     },
     "user_tz": -330
    },
    "id": "QTkn3-H45o-W",
    "outputId": "69672e4a-ef8b-4be0-a5f0-ae7372b968df"
   },
   "outputs": [
    {
     "name": "stdout",
     "output_type": "stream",
     "text": [
      "tpr  [0.         0.81564796 1.        ]\n",
      "fpr  [0.         0.08957679 1.        ]\n",
      "thresholds  [2 1 0]\n",
      "roc_auc_score 0.8630355840045734\n",
      "Threshold value is: 1\n"
     ]
    },
    {
     "data": {
      "image/png": "[encoded data removed]",
      "text/plain": [
       "<Figure size 640x480 with 1 Axes>"
      ]
     },
     "metadata": {},
     "output_type": "display_data"
    }
   ],
   "source": [
    "def plot_roc_curve(fpr, tpr):\n",
    "    plt.plot(fpr, tpr, color='orange', label='ROC')\n",
    "    plt.plot([0, 1], [0, 1], color='darkblue', linestyle='--')\n",
    "    plt.xlabel('False Positive Rate')\n",
    "    plt.ylabel('True Positive Rate')\n",
    "    plt.title('Receiver Operating Characteristic (ROC) Curve')\n",
    "    plt.legend()\n",
    "    plt.show()\n",
    "\n",
    "fpr, tpr, thresholds = roc_curve(y_test, y_pred)\n",
    "print(\"tpr \",tpr)\n",
    "print(\"fpr \",fpr)\n",
    "print(\"thresholds \",thresholds)\n",
    "print(\"roc_auc_score\" ,roc_auc_score(y_test, y_pred))\n",
    "optimal_idx = np.argmax(tpr - fpr)\n",
    "optimal_threshold = thresholds[optimal_idx]\n",
    "print(\"Threshold value is:\", optimal_threshold)\n",
    "plot_roc_curve(fpr, tpr)"
   ]
  },
  {
   "cell_type": "markdown",
   "metadata": {
    "id": "kuY5B6PM5o-W"
   },
   "source": [
    "## Improvement in  Logistic Regression with added feature \"acceleration\""
   ]
  },
  {
   "cell_type": "code",
   "execution_count": 58,
   "metadata": {
    "id": "uFofLZO_5o-W"
   },
   "outputs": [],
   "source": [
    "## Model Creation\n",
    "X1 = data.drop(columns = ['activity','username'])\n",
    "y = data['activity']"
   ]
  },
  {
   "cell_type": "code",
   "execution_count": 59,
   "metadata": {
    "id": "k14g8Mrg5o-X"
   },
   "outputs": [],
   "source": [
    "## Spliting training and testing data\n",
    "X_train,X_test,y_train,y_test=train_test_split(X,y,test_size = 0.30,random_state=42)"
   ]
  },
  {
   "cell_type": "code",
   "execution_count": 60,
   "metadata": {
    "colab": {
     "base_uri": "https://localhost:8080/",
     "height": 75
    },
    "executionInfo": {
     "elapsed": 31,
     "status": "ok",
     "timestamp": 1691159098413,
     "user": {
      "displayName": "Praveen venkat",
      "userId": "05082049976145442125"
     },
     "user_tz": -330
    },
    "id": "0xWS-b0F5o-X",
    "outputId": "a3f81c84-bfa4-466d-8dec-a3907988cfb4"
   },
   "outputs": [
    {
     "data": {
      "text/html": [
       "<style>#sk-container-id-2 {color: black;background-color: white;}#sk-container-id-2 pre{padding: 0;}#sk-container-id-2 div.sk-toggleable {background-color: white;}#sk-container-id-2 label.sk-toggleable__label {cursor: pointer;display: block;width: 100%;margin-bottom: 0;padding: 0.3em;box-sizing: border-box;text-align: center;}#sk-container-id-2 label.sk-toggleable__label-arrow:before {content: \"▸\";float: left;margin-right: 0.25em;color: #696969;}#sk-container-id-2 label.sk-toggleable__label-arrow:hover:before {color: black;}#sk-container-id-2 div.sk-estimator:hover label.sk-toggleable__label-arrow:before {color: black;}#sk-container-id-2 div.sk-toggleable__content {max-height: 0;max-width: 0;overflow: hidden;text-align: left;background-color: #f0f8ff;}#sk-container-id-2 div.sk-toggleable__content pre {margin: 0.2em;color: black;border-radius: 0.25em;background-color: #f0f8ff;}#sk-container-id-2 input.sk-toggleable__control:checked~div.sk-toggleable__content {max-height: 200px;max-width: 100%;overflow: auto;}#sk-container-id-2 input.sk-toggleable__control:checked~label.sk-toggleable__label-arrow:before {content: \"▾\";}#sk-container-id-2 div.sk-estimator input.sk-toggleable__control:checked~label.sk-toggleable__label {background-color: #d4ebff;}#sk-container-id-2 div.sk-label input.sk-toggleable__control:checked~label.sk-toggleable__label {background-color: #d4ebff;}#sk-container-id-2 input.sk-hidden--visually {border: 0;clip: rect(1px 1px 1px 1px);clip: rect(1px, 1px, 1px, 1px);height: 1px;margin: -1px;overflow: hidden;padding: 0;position: absolute;width: 1px;}#sk-container-id-2 div.sk-estimator {font-family: monospace;background-color: #f0f8ff;border: 1px dotted black;border-radius: 0.25em;box-sizing: border-box;margin-bottom: 0.5em;}#sk-container-id-2 div.sk-estimator:hover {background-color: #d4ebff;}#sk-container-id-2 div.sk-parallel-item::after {content: \"\";width: 100%;border-bottom: 1px solid gray;flex-grow: 1;}#sk-container-id-2 div.sk-label:hover label.sk-toggleable__label {background-color: #d4ebff;}#sk-container-id-2 div.sk-serial::before {content: \"\";position: absolute;border-left: 1px solid gray;box-sizing: border-box;top: 0;bottom: 0;left: 50%;z-index: 0;}#sk-container-id-2 div.sk-serial {display: flex;flex-direction: column;align-items: center;background-color: white;padding-right: 0.2em;padding-left: 0.2em;position: relative;}#sk-container-id-2 div.sk-item {position: relative;z-index: 1;}#sk-container-id-2 div.sk-parallel {display: flex;align-items: stretch;justify-content: center;background-color: white;position: relative;}#sk-container-id-2 div.sk-item::before, #sk-container-id-2 div.sk-parallel-item::before {content: \"\";position: absolute;border-left: 1px solid gray;box-sizing: border-box;top: 0;bottom: 0;left: 50%;z-index: -1;}#sk-container-id-2 div.sk-parallel-item {display: flex;flex-direction: column;z-index: 1;position: relative;background-color: white;}#sk-container-id-2 div.sk-parallel-item:first-child::after {align-self: flex-end;width: 50%;}#sk-container-id-2 div.sk-parallel-item:last-child::after {align-self: flex-start;width: 50%;}#sk-container-id-2 div.sk-parallel-item:only-child::after {width: 0;}#sk-container-id-2 div.sk-dashed-wrapped {border: 1px dashed gray;margin: 0 0.4em 0.5em 0.4em;box-sizing: border-box;padding-bottom: 0.4em;background-color: white;}#sk-container-id-2 div.sk-label label {font-family: monospace;font-weight: bold;display: inline-block;line-height: 1.2em;}#sk-container-id-2 div.sk-label-container {text-align: center;}#sk-container-id-2 div.sk-container {/* jupyter's `normalize.less` sets `[hidden] { display: none; }` but bootstrap.min.css set `[hidden] { display: none !important; }` so we also need the `!important` here to be able to override the default hidden behavior on the sphinx rendered scikit-learn.org. See: https://github.com/scikit-learn/scikit-learn/issues/21755 */display: inline-block !important;position: relative;}#sk-container-id-2 div.sk-text-repr-fallback {display: none;}</style><div id=\"sk-container-id-2\" class=\"sk-top-container\"><div class=\"sk-text-repr-fallback\"><pre>LogisticRegression()</pre><b>In a Jupyter environment, please rerun this cell to show the HTML representation or trust the notebook. <br />On GitHub, the HTML representation is unable to render, please try loading this page with nbviewer.org.</b></div><div class=\"sk-container\" hidden><div class=\"sk-item\"><div class=\"sk-estimator sk-toggleable\"><input class=\"sk-toggleable__control sk-hidden--visually\" id=\"sk-estimator-id-2\" type=\"checkbox\" checked><label for=\"sk-estimator-id-2\" class=\"sk-toggleable__label sk-toggleable__label-arrow\">LogisticRegression</label><div class=\"sk-toggleable__content\"><pre>LogisticRegression()</pre></div></div></div></div></div>"
      ],
      "text/plain": [
       "LogisticRegression()"
      ]
     },
     "execution_count": 60,
     "metadata": {},
     "output_type": "execute_result"
    }
   ],
   "source": [
    "## Model creation\n",
    "from sklearn.linear_model import LogisticRegression\n",
    "log_reg = LogisticRegression()\n",
    "\n",
    "log_reg.fit(X_train,y_train)"
   ]
  },
  {
   "cell_type": "code",
   "execution_count": 61,
   "metadata": {
    "id": "iYNJjuk75o-X"
   },
   "outputs": [],
   "source": [
    "y_pred = log_reg.predict(X_test)"
   ]
  },
  {
   "cell_type": "code",
   "execution_count": 62,
   "metadata": {
    "colab": {
     "base_uri": "https://localhost:8080/"
    },
    "executionInfo": {
     "elapsed": 30,
     "status": "ok",
     "timestamp": 1691159098413,
     "user": {
      "displayName": "Praveen venkat",
      "userId": "05082049976145442125"
     },
     "user_tz": -330
    },
    "id": "kYXg6pJr5o-X",
    "outputId": "d2dd6fac-6561-40ac-a61e-36a4110b95c8"
   },
   "outputs": [
    {
     "name": "stdout",
     "output_type": "stream",
     "text": [
      "0.8633404823719758\n"
     ]
    }
   ],
   "source": [
    "## calculating accuracy\n",
    "from sklearn.metrics import accuracy_score,auc, confusion_matrix,precision_score,recall_score\n",
    "accuracy = accuracy_score(y_test,y_pred)\n",
    "print(accuracy)"
   ]
  },
  {
   "cell_type": "markdown",
   "metadata": {},
   "source": [
    "#### The improved Logistic Regression shows 86.33%"
   ]
  },
  {
   "cell_type": "code",
   "execution_count": 63,
   "metadata": {
    "colab": {
     "base_uri": "https://localhost:8080/"
    },
    "executionInfo": {
     "elapsed": 32,
     "status": "ok",
     "timestamp": 1691159098417,
     "user": {
      "displayName": "Praveen venkat",
      "userId": "05082049976145442125"
     },
     "user_tz": -330
    },
    "id": "u4iksW-t5o-X",
    "outputId": "230389de-af21-4170-8e00-1087cb27d28b"
   },
   "outputs": [
    {
     "data": {
      "text/plain": [
       "0.8998913679284699"
      ]
     },
     "execution_count": 63,
     "metadata": {},
     "output_type": "execute_result"
    }
   ],
   "source": [
    "# Precison\n",
    "Precision = precision_score(y_test,y_pred)\n",
    "Precision"
   ]
  },
  {
   "cell_type": "code",
   "execution_count": 64,
   "metadata": {
    "colab": {
     "base_uri": "https://localhost:8080/"
    },
    "executionInfo": {
     "elapsed": 31,
     "status": "ok",
     "timestamp": 1691159098418,
     "user": {
      "displayName": "Praveen venkat",
      "userId": "05082049976145442125"
     },
     "user_tz": -330
    },
    "id": "YiHl4kje5o-X",
    "outputId": "c3cf25db-e348-4a4c-9b08-976aa569aedc"
   },
   "outputs": [
    {
     "data": {
      "text/plain": [
       "0.8156479587972431"
      ]
     },
     "execution_count": 64,
     "metadata": {},
     "output_type": "execute_result"
    }
   ],
   "source": [
    "# Recall\n",
    "Recall = recall_score(y_test,y_pred)\n",
    "Recall\n"
   ]
  },
  {
   "cell_type": "code",
   "execution_count": 65,
   "metadata": {
    "colab": {
     "base_uri": "https://localhost:8080/"
    },
    "executionInfo": {
     "elapsed": 28,
     "status": "ok",
     "timestamp": 1691159098418,
     "user": {
      "displayName": "Praveen venkat",
      "userId": "05082049976145442125"
     },
     "user_tz": -330
    },
    "id": "wfqnUEE35o-Y",
    "outputId": "593d6d03-6965-475f-dd2d-df0e2f851046"
   },
   "outputs": [
    {
     "data": {
      "text/plain": [
       "0.8557012316249504"
      ]
     },
     "execution_count": 65,
     "metadata": {},
     "output_type": "execute_result"
    }
   ],
   "source": [
    "# F1 Score\n",
    "F1_Score = f1_score(y_test,y_pred)\n",
    "F1_Score"
   ]
  },
  {
   "cell_type": "code",
   "execution_count": 66,
   "metadata": {
    "colab": {
     "base_uri": "https://localhost:8080/"
    },
    "executionInfo": {
     "elapsed": 26,
     "status": "ok",
     "timestamp": 1691159098418,
     "user": {
      "displayName": "Praveen venkat",
      "userId": "05082049976145442125"
     },
     "user_tz": -330
    },
    "id": "dUkoHUJE5o-Y",
    "outputId": "89d70814-7e18-4c51-fed6-df0f03803469"
   },
   "outputs": [
    {
     "data": {
      "text/plain": [
       "0.8630355840045734"
      ]
     },
     "execution_count": 66,
     "metadata": {},
     "output_type": "execute_result"
    }
   ],
   "source": [
    "# Area Under Curve\n",
    "auc = roc_auc_score(y_test, y_pred)\n",
    "auc"
   ]
  },
  {
   "cell_type": "code",
   "execution_count": 67,
   "metadata": {
    "colab": {
     "base_uri": "https://localhost:8080/",
     "height": 143
    },
    "executionInfo": {
     "elapsed": 25,
     "status": "ok",
     "timestamp": 1691159098418,
     "user": {
      "displayName": "Praveen venkat",
      "userId": "05082049976145442125"
     },
     "user_tz": -330
    },
    "id": "7JmtCOYi5o-Y",
    "outputId": "28bc9883-838e-477a-8e9c-764c70528186"
   },
   "outputs": [
    {
     "data": {
      "text/html": [
       "<div>\n",
       "<style scoped>\n",
       "    .dataframe tbody tr th:only-of-type {\n",
       "        vertical-align: middle;\n",
       "    }\n",
       "\n",
       "    .dataframe tbody tr th {\n",
       "        vertical-align: top;\n",
       "    }\n",
       "\n",
       "    .dataframe thead th {\n",
       "        text-align: right;\n",
       "    }\n",
       "</style>\n",
       "<table border=\"1\" class=\"dataframe\">\n",
       "  <thead>\n",
       "    <tr style=\"text-align: right;\">\n",
       "      <th>col_0</th>\n",
       "      <th>0</th>\n",
       "      <th>1</th>\n",
       "    </tr>\n",
       "    <tr>\n",
       "      <th>activity</th>\n",
       "      <th></th>\n",
       "      <th></th>\n",
       "    </tr>\n",
       "  </thead>\n",
       "  <tbody>\n",
       "    <tr>\n",
       "      <th>0</th>\n",
       "      <td>12176</td>\n",
       "      <td>1198</td>\n",
       "    </tr>\n",
       "    <tr>\n",
       "      <th>1</th>\n",
       "      <td>2434</td>\n",
       "      <td>10769</td>\n",
       "    </tr>\n",
       "  </tbody>\n",
       "</table>\n",
       "</div>"
      ],
      "text/plain": [
       "col_0         0      1\n",
       "activity              \n",
       "0         12176   1198\n",
       "1          2434  10769"
      ]
     },
     "execution_count": 67,
     "metadata": {},
     "output_type": "execute_result"
    }
   ],
   "source": [
    "pd.crosstab(y_test, y_pred)"
   ]
  },
  {
   "cell_type": "markdown",
   "metadata": {},
   "source": [
    "#### The accuracy has increased drastically but there is misclassification on running ,some values are showing as running but is actually walking. This model will not be feasible."
   ]
  },
  {
   "cell_type": "markdown",
   "metadata": {
    "id": "By6HkeJs5o-Y"
   },
   "source": [
    "## Decision Tree:-"
   ]
  },
  {
   "cell_type": "markdown",
   "metadata": {},
   "source": [
    "#### A decision tree is a graphical representation of decision-making processes. It's a popular algorithm in machine learning for classification and regression tasks, breaking down data into hierarchical choices."
   ]
  },
  {
   "cell_type": "code",
   "execution_count": 68,
   "metadata": {
    "id": "GP_kQq4U5o-Y"
   },
   "outputs": [],
   "source": [
    "# preparing training and testing data\n",
    "from sklearn.model_selection import train_test_split\n",
    "X_train, X_test, y_train, y_test = train_test_split(X, y, test_size=0.25, random_state=42)"
   ]
  },
  {
   "cell_type": "code",
   "execution_count": 69,
   "metadata": {
    "id": "-5EalNZr5o-Y"
   },
   "outputs": [],
   "source": [
    "from sklearn.tree import DecisionTreeClassifier\n",
    "dt=DecisionTreeClassifier()\n",
    "dt.fit(X_train,y_train)\n",
    "y_hat=dt.predict(X_test)"
   ]
  },
  {
   "cell_type": "markdown",
   "metadata": {},
   "source": [
    "#### The dt.fit() method is used to train the decision tree classifier model on the training set (X_train and y_train).\n",
    "\n",
    "#### The dt.predict() method is then used to make predictions on the test set (X_test). The predictions are stored in the variable y_hat.\n",
    "\n",
    "#### The decision tree classifier model is a supervised learning algorithm that can be used to classify data. The model works by creating a tree-like structure of decisions. Each decision is based on a single feature of the data. The model predicts the class label for an instance by traversing the tree and following the branches until it reaches a leaf node."
   ]
  },
  {
   "cell_type": "code",
   "execution_count": 70,
   "metadata": {
    "colab": {
     "base_uri": "https://localhost:8080/"
    },
    "executionInfo": {
     "elapsed": 26,
     "status": "ok",
     "timestamp": 1691159099076,
     "user": {
      "displayName": "Praveen venkat",
      "userId": "05082049976145442125"
     },
     "user_tz": -330
    },
    "id": "hq9lgleg5o-Z",
    "outputId": "5cb7b82d-f4ef-496a-a228-32bb4b4c64bf"
   },
   "outputs": [
    {
     "data": {
      "text/plain": [
       "1.0"
      ]
     },
     "execution_count": 70,
     "metadata": {},
     "output_type": "execute_result"
    }
   ],
   "source": [
    "## Evalauting the model\n",
    "from sklearn.metrics import accuracy_score,classification_report,f1_score\n",
    "##Training score\n",
    "y_train_predict=dt.predict(X_train)\n",
    "acc_train=accuracy_score(y_train,y_train_predict)\n",
    "acc_train"
   ]
  },
  {
   "cell_type": "markdown",
   "metadata": {},
   "source": [
    "#### The above code creates a variable called y_train_predict that stores the predictions made by the decision tree classifier model on the training set.\n",
    "\n",
    "#### The code then calculates the accuracy score of the model on the training set by calling the accuracy_score() function and passing the true labels (y_train) and the predicted labels (y_train_predict) as arguments.\n",
    "\n",
    "#### The accuracy score is a measure of the fraction of instances that are correctly classified. A perfect model will have an accuracy score of 1.0, while a random model will have an accuracy score of 0.5."
   ]
  },
  {
   "cell_type": "code",
   "execution_count": 71,
   "metadata": {
    "colab": {
     "base_uri": "https://localhost:8080/"
    },
    "executionInfo": {
     "elapsed": 20,
     "status": "ok",
     "timestamp": 1691159099076,
     "user": {
      "displayName": "Praveen venkat",
      "userId": "05082049976145442125"
     },
     "user_tz": -330
    },
    "id": "HSX_q1DA5o-Z",
    "outputId": "c4214ff3-5c7d-4440-b39c-474b85f9ac9c"
   },
   "outputs": [
    {
     "name": "stdout",
     "output_type": "stream",
     "text": [
      "              precision    recall  f1-score   support\n",
      "\n",
      "           0       1.00      1.00      1.00     33061\n",
      "           1       1.00      1.00      1.00     33380\n",
      "\n",
      "    accuracy                           1.00     66441\n",
      "   macro avg       1.00      1.00      1.00     66441\n",
      "weighted avg       1.00      1.00      1.00     66441\n",
      "\n"
     ]
    }
   ],
   "source": [
    "print(classification_report(y_train,y_train_predict))"
   ]
  },
  {
   "cell_type": "code",
   "execution_count": 72,
   "metadata": {
    "colab": {
     "base_uri": "https://localhost:8080/"
    },
    "executionInfo": {
     "elapsed": 16,
     "status": "ok",
     "timestamp": 1691159099076,
     "user": {
      "displayName": "Praveen venkat",
      "userId": "05082049976145442125"
     },
     "user_tz": -330
    },
    "id": "9zxl6thz5o-Z",
    "outputId": "5ebeb427-0ef9-40c3-fc87-7ceedd2ac637"
   },
   "outputs": [
    {
     "data": {
      "text/plain": [
       "0.9852801733869148"
      ]
     },
     "execution_count": 72,
     "metadata": {},
     "output_type": "execute_result"
    }
   ],
   "source": [
    "## test acc\n",
    "test_acc=accuracy_score(y_test,y_hat)\n",
    "test_acc"
   ]
  },
  {
   "cell_type": "code",
   "execution_count": 73,
   "metadata": {
    "colab": {
     "base_uri": "https://localhost:8080/"
    },
    "executionInfo": {
     "elapsed": 14,
     "status": "ok",
     "timestamp": 1691159099076,
     "user": {
      "displayName": "Praveen venkat",
      "userId": "05082049976145442125"
     },
     "user_tz": -330
    },
    "id": "Nc7nfVxa5o-Z",
    "outputId": "a78b9f39-c7dd-467e-dd31-ae3415bc9d03"
   },
   "outputs": [
    {
     "data": {
      "text/plain": [
       "0.9851804709519049"
      ]
     },
     "execution_count": 73,
     "metadata": {},
     "output_type": "execute_result"
    }
   ],
   "source": [
    "## test score\n",
    "test_f1=f1_score(y_test,y_hat)\n",
    "test_f1"
   ]
  },
  {
   "cell_type": "code",
   "execution_count": 74,
   "metadata": {
    "colab": {
     "base_uri": "https://localhost:8080/",
     "height": 143
    },
    "executionInfo": {
     "elapsed": 13,
     "status": "ok",
     "timestamp": 1691159099077,
     "user": {
      "displayName": "Praveen venkat",
      "userId": "05082049976145442125"
     },
     "user_tz": -330
    },
    "id": "Lxny0XjZ5o-Z",
    "outputId": "136e9dcd-9a76-4882-a5bf-9515c6297218"
   },
   "outputs": [
    {
     "data": {
      "text/html": [
       "<div>\n",
       "<style scoped>\n",
       "    .dataframe tbody tr th:only-of-type {\n",
       "        vertical-align: middle;\n",
       "    }\n",
       "\n",
       "    .dataframe tbody tr th {\n",
       "        vertical-align: top;\n",
       "    }\n",
       "\n",
       "    .dataframe thead th {\n",
       "        text-align: right;\n",
       "    }\n",
       "</style>\n",
       "<table border=\"1\" class=\"dataframe\">\n",
       "  <thead>\n",
       "    <tr style=\"text-align: right;\">\n",
       "      <th>col_0</th>\n",
       "      <th>0</th>\n",
       "      <th>1</th>\n",
       "    </tr>\n",
       "    <tr>\n",
       "      <th>activity</th>\n",
       "      <th></th>\n",
       "      <th></th>\n",
       "    </tr>\n",
       "  </thead>\n",
       "  <tbody>\n",
       "    <tr>\n",
       "      <th>0</th>\n",
       "      <td>10985</td>\n",
       "      <td>177</td>\n",
       "    </tr>\n",
       "    <tr>\n",
       "      <th>1</th>\n",
       "      <td>149</td>\n",
       "      <td>10836</td>\n",
       "    </tr>\n",
       "  </tbody>\n",
       "</table>\n",
       "</div>"
      ],
      "text/plain": [
       "col_0         0      1\n",
       "activity              \n",
       "0         10985    177\n",
       "1           149  10836"
      ]
     },
     "execution_count": 74,
     "metadata": {},
     "output_type": "execute_result"
    }
   ],
   "source": [
    "pd.crosstab(y_test,y_hat)"
   ]
  },
  {
   "cell_type": "markdown",
   "metadata": {
    "id": "kwrKqeII5o-Z"
   },
   "source": [
    "## Hyperparameter  Tuning for  DecisionTree"
   ]
  },
  {
   "cell_type": "code",
   "execution_count": 75,
   "metadata": {
    "id": "uZYkINfu5o-a"
   },
   "outputs": [],
   "source": [
    "from sklearn.model_selection import GridSearchCV"
   ]
  },
  {
   "cell_type": "markdown",
   "metadata": {},
   "source": [
    "#### Grid search cross-validation is a technique for hyperparameter tuning that involves searching over a grid of hyperparameter values and selecting the hyperparameters that result in the best model performance."
   ]
  },
  {
   "cell_type": "code",
   "execution_count": 76,
   "metadata": {
    "colab": {
     "base_uri": "https://localhost:8080/"
    },
    "executionInfo": {
     "elapsed": 2100214,
     "status": "ok",
     "timestamp": 1691161199279,
     "user": {
      "displayName": "Praveen venkat",
      "userId": "05082049976145442125"
     },
     "user_tz": -330
    },
    "id": "XLIJQlgW5o-a",
    "outputId": "8525245b-1158-43cf-edd8-0009a3e4791f"
   },
   "outputs": [
    {
     "name": "stdout",
     "output_type": "stream",
     "text": [
      "Fitting 3 folds for each of 4332 candidates, totalling 12996 fits\n",
      "Best paramters: {'criterion': 'entropy', 'max_depth': 18, 'min_samples_leaf': 3, 'min_samples_split': 2, 'splitter': 'best'})\n"
     ]
    }
   ],
   "source": [
    "params = {\n",
    "    \"criterion\":(\"gini\", \"entropy\"),\n",
    "    \"splitter\":(\"best\", \"random\"),\n",
    "    \"max_depth\":(list(range(1, 20))),\n",
    "    \"min_samples_split\":[2, 3, 4],\n",
    "    \"min_samples_leaf\":list(range(1, 20)),\n",
    "}\n",
    "\n",
    "\n",
    "tree_clf = DecisionTreeClassifier(random_state=3)\n",
    "tree_cv = GridSearchCV(tree_clf, params, scoring=\"f1\", n_jobs=-1, verbose=1, cv=3)\n",
    "tree_cv.fit(X_train,y_train)\n",
    "best_params = tree_cv.best_params_\n",
    "print(f\"Best paramters: {best_params})\")"
   ]
  },
  {
   "cell_type": "markdown",
   "metadata": {},
   "source": [
    "#### The params dictionary defines the hyperparameters to search over. The criterion hyperparameter specifies the splitting criterion to use. The splitter hyperparameter specifies the splitting algorithm to use. The max_depth hyperparameter specifies the maximum depth of the tree. The min_samples_split hyperparameter specifies the minimum number of samples required to split a node. The min_samples_leaf hyperparameter specifies the minimum number of samples required in a leaf node.\n",
    "\n",
    "#### The tree_clf variable creates a decision tree classifier model with the default hyperparameters. The tree_cv variable creates a GridSearchCV object that will use the tree_clf model and the params dictionary to perform grid search cross-validation. The n_jobs=-1 argument tells the GridSearchCV object to use all available cores for the computation. The verbose=1 argument tells the GridSearchCV object to print progress information. The cv=3 argument tells the GridSearchCV object to use 3 folds for cross-validation.\n",
    "\n",
    "#### The tree_cv.fit() method fits the model on the training set and evaluates the model performance on the cross-validation folds. The tree_cv.best_params_ attribute stores the best hyperparameters found by the grid search.\n",
    "\n",
    "#### The code prints the best hyperparameters found by the grid search. In this case, the best hyperparameters are criterion=\"entropy\", splitter=\"best\", max_depth=18, min_samples_split=2, and min_samples_leaf=3."
   ]
  },
  {
   "cell_type": "code",
   "execution_count": 77,
   "metadata": {
    "colab": {
     "base_uri": "https://localhost:8080/"
    },
    "executionInfo": {
     "elapsed": 12,
     "status": "ok",
     "timestamp": 1691161199279,
     "user": {
      "displayName": "Praveen venkat",
      "userId": "05082049976145442125"
     },
     "user_tz": -330
    },
    "id": "zcF76yXC5o-a",
    "outputId": "e93ea00f-5281-41d6-9d38-53d0ca14a6f8"
   },
   "outputs": [
    {
     "data": {
      "text/plain": [
       "{'criterion': 'entropy',\n",
       " 'max_depth': 18,\n",
       " 'min_samples_leaf': 3,\n",
       " 'min_samples_split': 2,\n",
       " 'splitter': 'best'}"
      ]
     },
     "execution_count": 77,
     "metadata": {},
     "output_type": "execute_result"
    }
   ],
   "source": [
    "tree_cv.best_params_"
   ]
  },
  {
   "cell_type": "code",
   "execution_count": 78,
   "metadata": {
    "colab": {
     "base_uri": "https://localhost:8080/"
    },
    "executionInfo": {
     "elapsed": 6,
     "status": "ok",
     "timestamp": 1691161199279,
     "user": {
      "displayName": "Praveen venkat",
      "userId": "05082049976145442125"
     },
     "user_tz": -330
    },
    "id": "ktK-ApQX5o-a",
    "outputId": "a579770c-7917-4668-de92-193735d431cb"
   },
   "outputs": [
    {
     "data": {
      "text/plain": [
       "0.985996272979218"
      ]
     },
     "execution_count": 78,
     "metadata": {},
     "output_type": "execute_result"
    }
   ],
   "source": [
    "tree_cv.best_score_"
   ]
  },
  {
   "cell_type": "markdown",
   "metadata": {},
   "source": [
    "#### The best score is the average F1 score of the model on the cross-validation folds.\n",
    "\n",
    "#### In this case, the best score is 0.98. This means that the decision tree classifier model with the best parameters has an average F1 score of 98% on the cross-validation folds.\n",
    "\n",
    "#### The F1 score is a measure of the accuracy and precision of a model. It is calculated by taking the harmonic mean of the accuracy and precision scores. The accuracy score is the fraction of instances that are correctly classified. The precision score is the fraction of positive predictions that are actually positive."
   ]
  },
  {
   "cell_type": "code",
   "execution_count": 79,
   "metadata": {
    "id": "S1Do73i_5o-a"
   },
   "outputs": [],
   "source": [
    "#add the new best parameters\n",
    "dt1=DecisionTreeClassifier(criterion='entropy',max_depth=10,min_samples_leaf=2,min_samples_split=2,splitter='random')"
   ]
  },
  {
   "cell_type": "code",
   "execution_count": 80,
   "metadata": {
    "colab": {
     "base_uri": "https://localhost:8080/"
    },
    "executionInfo": {
     "elapsed": 14,
     "status": "ok",
     "timestamp": 1691161199976,
     "user": {
      "displayName": "Praveen venkat",
      "userId": "05082049976145442125"
     },
     "user_tz": -330
    },
    "id": "wrt4V6QA5o-a",
    "outputId": "5ea57759-1232-47fe-d239-aeb9c6c86ff3"
   },
   "outputs": [
    {
     "data": {
      "text/html": [
       "<style>#sk-container-id-3 {color: black;background-color: white;}#sk-container-id-3 pre{padding: 0;}#sk-container-id-3 div.sk-toggleable {background-color: white;}#sk-container-id-3 label.sk-toggleable__label {cursor: pointer;display: block;width: 100%;margin-bottom: 0;padding: 0.3em;box-sizing: border-box;text-align: center;}#sk-container-id-3 label.sk-toggleable__label-arrow:before {content: \"▸\";float: left;margin-right: 0.25em;color: #696969;}#sk-container-id-3 label.sk-toggleable__label-arrow:hover:before {color: black;}#sk-container-id-3 div.sk-estimator:hover label.sk-toggleable__label-arrow:before {color: black;}#sk-container-id-3 div.sk-toggleable__content {max-height: 0;max-width: 0;overflow: hidden;text-align: left;background-color: #f0f8ff;}#sk-container-id-3 div.sk-toggleable__content pre {margin: 0.2em;color: black;border-radius: 0.25em;background-color: #f0f8ff;}#sk-container-id-3 input.sk-toggleable__control:checked~div.sk-toggleable__content {max-height: 200px;max-width: 100%;overflow: auto;}#sk-container-id-3 input.sk-toggleable__control:checked~label.sk-toggleable__label-arrow:before {content: \"▾\";}#sk-container-id-3 div.sk-estimator input.sk-toggleable__control:checked~label.sk-toggleable__label {background-color: #d4ebff;}#sk-container-id-3 div.sk-label input.sk-toggleable__control:checked~label.sk-toggleable__label {background-color: #d4ebff;}#sk-container-id-3 input.sk-hidden--visually {border: 0;clip: rect(1px 1px 1px 1px);clip: rect(1px, 1px, 1px, 1px);height: 1px;margin: -1px;overflow: hidden;padding: 0;position: absolute;width: 1px;}#sk-container-id-3 div.sk-estimator {font-family: monospace;background-color: #f0f8ff;border: 1px dotted black;border-radius: 0.25em;box-sizing: border-box;margin-bottom: 0.5em;}#sk-container-id-3 div.sk-estimator:hover {background-color: #d4ebff;}#sk-container-id-3 div.sk-parallel-item::after {content: \"\";width: 100%;border-bottom: 1px solid gray;flex-grow: 1;}#sk-container-id-3 div.sk-label:hover label.sk-toggleable__label {background-color: #d4ebff;}#sk-container-id-3 div.sk-serial::before {content: \"\";position: absolute;border-left: 1px solid gray;box-sizing: border-box;top: 0;bottom: 0;left: 50%;z-index: 0;}#sk-container-id-3 div.sk-serial {display: flex;flex-direction: column;align-items: center;background-color: white;padding-right: 0.2em;padding-left: 0.2em;position: relative;}#sk-container-id-3 div.sk-item {position: relative;z-index: 1;}#sk-container-id-3 div.sk-parallel {display: flex;align-items: stretch;justify-content: center;background-color: white;position: relative;}#sk-container-id-3 div.sk-item::before, #sk-container-id-3 div.sk-parallel-item::before {content: \"\";position: absolute;border-left: 1px solid gray;box-sizing: border-box;top: 0;bottom: 0;left: 50%;z-index: -1;}#sk-container-id-3 div.sk-parallel-item {display: flex;flex-direction: column;z-index: 1;position: relative;background-color: white;}#sk-container-id-3 div.sk-parallel-item:first-child::after {align-self: flex-end;width: 50%;}#sk-container-id-3 div.sk-parallel-item:last-child::after {align-self: flex-start;width: 50%;}#sk-container-id-3 div.sk-parallel-item:only-child::after {width: 0;}#sk-container-id-3 div.sk-dashed-wrapped {border: 1px dashed gray;margin: 0 0.4em 0.5em 0.4em;box-sizing: border-box;padding-bottom: 0.4em;background-color: white;}#sk-container-id-3 div.sk-label label {font-family: monospace;font-weight: bold;display: inline-block;line-height: 1.2em;}#sk-container-id-3 div.sk-label-container {text-align: center;}#sk-container-id-3 div.sk-container {/* jupyter's `normalize.less` sets `[hidden] { display: none; }` but bootstrap.min.css set `[hidden] { display: none !important; }` so we also need the `!important` here to be able to override the default hidden behavior on the sphinx rendered scikit-learn.org. See: https://github.com/scikit-learn/scikit-learn/issues/21755 */display: inline-block !important;position: relative;}#sk-container-id-3 div.sk-text-repr-fallback {display: none;}</style><div id=\"sk-container-id-3\" class=\"sk-top-container\"><div class=\"sk-text-repr-fallback\"><pre>DecisionTreeClassifier(criterion=&#x27;entropy&#x27;, max_depth=10, min_samples_leaf=2,\n",
       "                       splitter=&#x27;random&#x27;)</pre><b>In a Jupyter environment, please rerun this cell to show the HTML representation or trust the notebook. <br />On GitHub, the HTML representation is unable to render, please try loading this page with nbviewer.org.</b></div><div class=\"sk-container\" hidden><div class=\"sk-item\"><div class=\"sk-estimator sk-toggleable\"><input class=\"sk-toggleable__control sk-hidden--visually\" id=\"sk-estimator-id-3\" type=\"checkbox\" checked><label for=\"sk-estimator-id-3\" class=\"sk-toggleable__label sk-toggleable__label-arrow\">DecisionTreeClassifier</label><div class=\"sk-toggleable__content\"><pre>DecisionTreeClassifier(criterion=&#x27;entropy&#x27;, max_depth=10, min_samples_leaf=2,\n",
       "                       splitter=&#x27;random&#x27;)</pre></div></div></div></div></div>"
      ],
      "text/plain": [
       "DecisionTreeClassifier(criterion='entropy', max_depth=10, min_samples_leaf=2,\n",
       "                       splitter='random')"
      ]
     },
     "execution_count": 80,
     "metadata": {},
     "output_type": "execute_result"
    }
   ],
   "source": [
    " dt1.fit(X_train,y_train)"
   ]
  },
  {
   "cell_type": "markdown",
   "metadata": {},
   "source": [
    "#### The above code will fit the decision tree classifier model dt1 on the training set. The model will learn the relationship between the features(X) and the labels(y).Once the model is trained, it can be used to make predictions on new data."
   ]
  },
  {
   "cell_type": "code",
   "execution_count": 81,
   "metadata": {
    "id": "A-3gy5-C5o-a"
   },
   "outputs": [],
   "source": [
    " y_hat1=dt1.predict(X_test)"
   ]
  },
  {
   "cell_type": "markdown",
   "metadata": {},
   "source": [
    "#### The predict() method will make predictions for the instances in the test set. The predictions will be stored in the variable y_hat1.\n",
    "\n",
    "#### The predictions can be used to evaluate the performance of the model on the test set."
   ]
  },
  {
   "cell_type": "code",
   "execution_count": 82,
   "metadata": {
    "colab": {
     "base_uri": "https://localhost:8080/"
    },
    "executionInfo": {
     "elapsed": 13,
     "status": "ok",
     "timestamp": 1691161199978,
     "user": {
      "displayName": "Praveen venkat",
      "userId": "05082049976145442125"
     },
     "user_tz": -330
    },
    "id": "51RMDgvO5o-b",
    "outputId": "176a4f65-a7ba-4e03-a72d-3661da145ecd",
    "scrolled": true
   },
   "outputs": [
    {
     "name": "stdout",
     "output_type": "stream",
     "text": [
      "              precision    recall  f1-score   support\n",
      "\n",
      "           0       0.93      0.98      0.96     11162\n",
      "           1       0.98      0.93      0.95     10985\n",
      "\n",
      "    accuracy                           0.95     22147\n",
      "   macro avg       0.96      0.95      0.95     22147\n",
      "weighted avg       0.96      0.95      0.95     22147\n",
      "\n"
     ]
    }
   ],
   "source": [
    " print(classification_report(y_test,y_hat1))"
   ]
  },
  {
   "cell_type": "markdown",
   "metadata": {
    "id": "7gdtVoFH5o-b"
   },
   "source": [
    "## Random Forest:-"
   ]
  },
  {
   "cell_type": "markdown",
   "metadata": {},
   "source": [
    "#### Random Forest is an ensemble learning technique that combines multiple decision trees to improve accuracy and mitigate overfitting. It's widely used for classification, regression, and feature selection tasks in machine learning."
   ]
  },
  {
   "cell_type": "code",
   "execution_count": 83,
   "metadata": {
    "colab": {
     "base_uri": "https://localhost:8080/"
    },
    "executionInfo": {
     "elapsed": 17707,
     "status": "ok",
     "timestamp": 1691161217679,
     "user": {
      "displayName": "Praveen venkat",
      "userId": "05082049976145442125"
     },
     "user_tz": -330
    },
    "id": "XsGrqjgL5o-b",
    "outputId": "46171559-eeb1-4872-8085-09f06fa71667"
   },
   "outputs": [
    {
     "data": {
      "text/html": [
       "<style>#sk-container-id-4 {color: black;background-color: white;}#sk-container-id-4 pre{padding: 0;}#sk-container-id-4 div.sk-toggleable {background-color: white;}#sk-container-id-4 label.sk-toggleable__label {cursor: pointer;display: block;width: 100%;margin-bottom: 0;padding: 0.3em;box-sizing: border-box;text-align: center;}#sk-container-id-4 label.sk-toggleable__label-arrow:before {content: \"▸\";float: left;margin-right: 0.25em;color: #696969;}#sk-container-id-4 label.sk-toggleable__label-arrow:hover:before {color: black;}#sk-container-id-4 div.sk-estimator:hover label.sk-toggleable__label-arrow:before {color: black;}#sk-container-id-4 div.sk-toggleable__content {max-height: 0;max-width: 0;overflow: hidden;text-align: left;background-color: #f0f8ff;}#sk-container-id-4 div.sk-toggleable__content pre {margin: 0.2em;color: black;border-radius: 0.25em;background-color: #f0f8ff;}#sk-container-id-4 input.sk-toggleable__control:checked~div.sk-toggleable__content {max-height: 200px;max-width: 100%;overflow: auto;}#sk-container-id-4 input.sk-toggleable__control:checked~label.sk-toggleable__label-arrow:before {content: \"▾\";}#sk-container-id-4 div.sk-estimator input.sk-toggleable__control:checked~label.sk-toggleable__label {background-color: #d4ebff;}#sk-container-id-4 div.sk-label input.sk-toggleable__control:checked~label.sk-toggleable__label {background-color: #d4ebff;}#sk-container-id-4 input.sk-hidden--visually {border: 0;clip: rect(1px 1px 1px 1px);clip: rect(1px, 1px, 1px, 1px);height: 1px;margin: -1px;overflow: hidden;padding: 0;position: absolute;width: 1px;}#sk-container-id-4 div.sk-estimator {font-family: monospace;background-color: #f0f8ff;border: 1px dotted black;border-radius: 0.25em;box-sizing: border-box;margin-bottom: 0.5em;}#sk-container-id-4 div.sk-estimator:hover {background-color: #d4ebff;}#sk-container-id-4 div.sk-parallel-item::after {content: \"\";width: 100%;border-bottom: 1px solid gray;flex-grow: 1;}#sk-container-id-4 div.sk-label:hover label.sk-toggleable__label {background-color: #d4ebff;}#sk-container-id-4 div.sk-serial::before {content: \"\";position: absolute;border-left: 1px solid gray;box-sizing: border-box;top: 0;bottom: 0;left: 50%;z-index: 0;}#sk-container-id-4 div.sk-serial {display: flex;flex-direction: column;align-items: center;background-color: white;padding-right: 0.2em;padding-left: 0.2em;position: relative;}#sk-container-id-4 div.sk-item {position: relative;z-index: 1;}#sk-container-id-4 div.sk-parallel {display: flex;align-items: stretch;justify-content: center;background-color: white;position: relative;}#sk-container-id-4 div.sk-item::before, #sk-container-id-4 div.sk-parallel-item::before {content: \"\";position: absolute;border-left: 1px solid gray;box-sizing: border-box;top: 0;bottom: 0;left: 50%;z-index: -1;}#sk-container-id-4 div.sk-parallel-item {display: flex;flex-direction: column;z-index: 1;position: relative;background-color: white;}#sk-container-id-4 div.sk-parallel-item:first-child::after {align-self: flex-end;width: 50%;}#sk-container-id-4 div.sk-parallel-item:last-child::after {align-self: flex-start;width: 50%;}#sk-container-id-4 div.sk-parallel-item:only-child::after {width: 0;}#sk-container-id-4 div.sk-dashed-wrapped {border: 1px dashed gray;margin: 0 0.4em 0.5em 0.4em;box-sizing: border-box;padding-bottom: 0.4em;background-color: white;}#sk-container-id-4 div.sk-label label {font-family: monospace;font-weight: bold;display: inline-block;line-height: 1.2em;}#sk-container-id-4 div.sk-label-container {text-align: center;}#sk-container-id-4 div.sk-container {/* jupyter's `normalize.less` sets `[hidden] { display: none; }` but bootstrap.min.css set `[hidden] { display: none !important; }` so we also need the `!important` here to be able to override the default hidden behavior on the sphinx rendered scikit-learn.org. See: https://github.com/scikit-learn/scikit-learn/issues/21755 */display: inline-block !important;position: relative;}#sk-container-id-4 div.sk-text-repr-fallback {display: none;}</style><div id=\"sk-container-id-4\" class=\"sk-top-container\"><div class=\"sk-text-repr-fallback\"><pre>RandomForestClassifier()</pre><b>In a Jupyter environment, please rerun this cell to show the HTML representation or trust the notebook. <br />On GitHub, the HTML representation is unable to render, please try loading this page with nbviewer.org.</b></div><div class=\"sk-container\" hidden><div class=\"sk-item\"><div class=\"sk-estimator sk-toggleable\"><input class=\"sk-toggleable__control sk-hidden--visually\" id=\"sk-estimator-id-4\" type=\"checkbox\" checked><label for=\"sk-estimator-id-4\" class=\"sk-toggleable__label sk-toggleable__label-arrow\">RandomForestClassifier</label><div class=\"sk-toggleable__content\"><pre>RandomForestClassifier()</pre></div></div></div></div></div>"
      ],
      "text/plain": [
       "RandomForestClassifier()"
      ]
     },
     "execution_count": 83,
     "metadata": {},
     "output_type": "execute_result"
    }
   ],
   "source": [
    "from sklearn.ensemble import RandomForestClassifier\n",
    "\n",
    "rf_clf = RandomForestClassifier(n_estimators=100)\n",
    "rf_clf.fit(X_train,y_train)\n"
   ]
  },
  {
   "cell_type": "markdown",
   "metadata": {},
   "source": [
    "#### The above code creates an instance of the RandomForestClassifier class and assigns it to the variable rf_clf. The n_estimators parameter is set to 100, which means that the model will create 100 decision trees.The more trees that are created, the more accurate the model will be, but it will also take longer to train the model.\n",
    "\n",
    "#### The fit() method is then used to train the random forest classifier model on the training set (X_train and y_train)."
   ]
  },
  {
   "cell_type": "code",
   "execution_count": 84,
   "metadata": {
    "id": "6bmPRWcZ5o-b"
   },
   "outputs": [],
   "source": [
    "y_predict=rf_clf.predict(X_test)"
   ]
  },
  {
   "cell_type": "markdown",
   "metadata": {},
   "source": [
    "#### The predict() method will make predictions for the instances in the test set using the random forest classifier model rf_clf. The predictions will be stored in the variable y_predict."
   ]
  },
  {
   "cell_type": "code",
   "execution_count": 85,
   "metadata": {
    "colab": {
     "base_uri": "https://localhost:8080/"
    },
    "executionInfo": {
     "elapsed": 26,
     "status": "ok",
     "timestamp": 1691161217680,
     "user": {
      "displayName": "Praveen venkat",
      "userId": "05082049976145442125"
     },
     "user_tz": -330
    },
    "id": "Jx0sJW855o-b",
    "outputId": "5902a25a-dedc-46fe-f37a-c522163c5cb9"
   },
   "outputs": [
    {
     "name": "stdout",
     "output_type": "stream",
     "text": [
      "              precision    recall  f1-score   support\n",
      "\n",
      "           0       0.99      0.99      0.99     11162\n",
      "           1       0.99      0.99      0.99     10985\n",
      "\n",
      "    accuracy                           0.99     22147\n",
      "   macro avg       0.99      0.99      0.99     22147\n",
      "weighted avg       0.99      0.99      0.99     22147\n",
      "\n"
     ]
    }
   ],
   "source": [
    "print(classification_report(y_test,y_predict))"
   ]
  },
  {
   "cell_type": "markdown",
   "metadata": {},
   "source": [
    "#### The classification report includes the following metrics:\n",
    "\n",
    "#### Precision: The precision is the fraction of positive predictions that are actually positive.\n",
    "#### Recall: The recall is the fraction of positive instances that are correctly classified.\n",
    "#### F1 score: The F1 score is the harmonic mean of the precision and recall scores.\n",
    "#### Support: The support is the number of instances in the test set for each class.\n",
    "#### The higher the values of the precision, recall, and F1 score, the better the performance of the model."
   ]
  },
  {
   "cell_type": "code",
   "execution_count": 86,
   "metadata": {
    "colab": {
     "base_uri": "https://localhost:8080/"
    },
    "executionInfo": {
     "elapsed": 23,
     "status": "ok",
     "timestamp": 1691161217680,
     "user": {
      "displayName": "Praveen venkat",
      "userId": "05082049976145442125"
     },
     "user_tz": -330
    },
    "id": "D95ph2TU5o-b",
    "outputId": "dc810d24-a74a-4ab2-d543-6bcb3030340f"
   },
   "outputs": [
    {
     "data": {
      "text/plain": [
       "array([[11074,    88],\n",
       "       [   78, 10907]], dtype=int64)"
      ]
     },
     "execution_count": 86,
     "metadata": {},
     "output_type": "execute_result"
    }
   ],
   "source": [
    "confusion_matrix(y_test,y_predict)"
   ]
  },
  {
   "cell_type": "markdown",
   "metadata": {},
   "source": [
    "#### The confusion matrix is a table that summarizes the predictions of the model compared to the actual labels.\n",
    "\n",
    "#### The confusion matrix includes the following information:\n",
    "\n",
    "#### True positives: The number of instances that were correctly classified as positive.\n",
    "#### False positives: The number of instances that were incorrectly classified as positive.\n",
    "#### True negatives: The number of instances that were correctly classified as negative.\n",
    "#### False negatives: The number of instances that were incorrectly classified as negative.\n",
    "#### The higher the values of the true positives and true negatives, the better the performance of the model."
   ]
  },
  {
   "cell_type": "code",
   "execution_count": 87,
   "metadata": {
    "colab": {
     "base_uri": "https://localhost:8080/"
    },
    "executionInfo": {
     "elapsed": 21,
     "status": "ok",
     "timestamp": 1691161217681,
     "user": {
      "displayName": "Praveen venkat",
      "userId": "05082049976145442125"
     },
     "user_tz": -330
    },
    "id": "3CL84uiV5o-b",
    "outputId": "13b75e52-5d17-4808-b9de-12593c0c0dc2"
   },
   "outputs": [
    {
     "data": {
      "text/plain": [
       "0.9924476797088262"
      ]
     },
     "execution_count": 87,
     "metadata": {},
     "output_type": "execute_result"
    }
   ],
   "source": [
    "f_Score=f1_score(y_test,y_predict)\n",
    "f_Score"
   ]
  },
  {
   "cell_type": "markdown",
   "metadata": {},
   "source": [
    "#### The above code will calculate the F1 score for the random forest classifier model. The F1 score is a measure of the accuracy and precision of the model.In this case, the F1 score is 0.99. This means that the random forest classifier model has a good performance on the test set. The precision and recall scores are also high, which indicates that the model is not overfitting the training set."
   ]
  },
  {
   "cell_type": "markdown",
   "metadata": {},
   "source": [
    "## Recurrent Neural Network (RNN) :-"
   ]
  },
  {
   "cell_type": "markdown",
   "metadata": {},
   "source": [
    "#### A Recurrent Neural Network (RNN) is a type of neural network designed for sequence data. It processes information with loops to capture temporal dependencies, making it suitable for tasks like natural language processing and time series analysis."
   ]
  },
  {
   "cell_type": "code",
   "execution_count": 92,
   "metadata": {},
   "outputs": [],
   "source": [
    "# Creating the model\n",
    "\n",
    "def create_baseline():\n",
    "    model = keras.Sequential(\n",
    "    [\n",
    "        layers.Dense(14, input_shape = (None,7), activation=\"relu\"), ##?\n",
    "        layers.Dense(20, activation=\"relu\"),\n",
    "        layers.Dense(10, activation=\"relu\"),\n",
    "        layers.Dense(5, activation=\"relu\"),\n",
    "        layers.Dense(1,  activation=\"sigmoid\"),\n",
    "    ]\n",
    "    )\n",
    "    model.compile(loss='binary_crossentropy', optimizer='adam', metrics=['accuracy'])\n",
    "    return model"
   ]
  },
  {
   "cell_type": "markdown",
   "metadata": {},
   "source": [
    "#### The above code defines a function called create_baseline() that creates a sequential model with 5 hidden layers. The first layer has 14 neurons and uses the relu activation function. The next 3 layers have 20, 10, and 5 neurons, respectively, and also use the relu activation function. The last layer has 1 neuron and uses the sigmoid activation function.\n",
    "#### The keras.Sequential() function is used to create a sequential model. A sequential model is a linear stack of layers.\n",
    "\n",
    "#### The layers.Dense() function is used to create a dense layer. A dense layer is a layer that connects all neurons in the previous layer to all neurons in the next layer.\n",
    "\n",
    "#### The model is compiled using the loss='binary_crossentropy' loss function, the optimizer='adam' optimizer, and the metrics=['accuracy'] metrics.\n",
    "\n",
    "#### The create_baseline() function returns the model.\n",
    "\n",
    "#### The input shape of the model is specified as (None, 7). This means that the model can accept any number of instances, but each instance must have 7 features.\n",
    "\n",
    "#### The None in the input shape represents the batch size. The batch size is the number of instances that are processed by the model at the same time. The batch size can be changed to improve the performance of the model."
   ]
  },
  {
   "cell_type": "code",
   "execution_count": 93,
   "metadata": {},
   "outputs": [],
   "source": [
    "# Initializing the model\n",
    "model_RNN = create_baseline()"
   ]
  },
  {
   "cell_type": "code",
   "execution_count": 94,
   "metadata": {},
   "outputs": [
    {
     "name": "stdout",
     "output_type": "stream",
     "text": [
      "Model: \"sequential\"\n",
      "_________________________________________________________________\n",
      " Layer (type)                Output Shape              Param #   \n",
      "=================================================================\n",
      " dense (Dense)               (None, None, 14)          112       \n",
      "                                                                 \n",
      " dense_1 (Dense)             (None, None, 20)          300       \n",
      "                                                                 \n",
      " dense_2 (Dense)             (None, None, 10)          210       \n",
      "                                                                 \n",
      " dense_3 (Dense)             (None, None, 5)           55        \n",
      "                                                                 \n",
      " dense_4 (Dense)             (None, None, 1)           6         \n",
      "                                                                 \n",
      "=================================================================\n",
      "Total params: 683 (2.67 KB)\n",
      "Trainable params: 683 (2.67 KB)\n",
      "Non-trainable params: 0 (0.00 Byte)\n",
      "_________________________________________________________________\n"
     ]
    }
   ],
   "source": [
    "# Checking the model summary\n",
    "model_RNN.summary()"
   ]
  },
  {
   "cell_type": "markdown",
   "metadata": {},
   "source": [
    "#### The summary includes the following information:-the number of layers in the model,the number of neurons in each layer,the activation function for each layer,the input shape of the model,the output shape of the model.\n",
    "#### The summary can be used to understand the structure of the model and to get an idea of the number of parameters that the model has.\n",
    "\n",
    "\n",
    "\n"
   ]
  },
  {
   "cell_type": "code",
   "execution_count": 95,
   "metadata": {},
   "outputs": [
    {
     "name": "stdout",
     "output_type": "stream",
     "text": [
      "Epoch 1/15\n",
      "520/520 [==============================] - 4s 3ms/step - loss: 0.2008 - accuracy: 0.9201\n",
      "Epoch 2/15\n",
      "520/520 [==============================] - 2s 3ms/step - loss: 0.0421 - accuracy: 0.9868\n",
      "Epoch 3/15\n",
      "520/520 [==============================] - 1s 3ms/step - loss: 0.0341 - accuracy: 0.9888\n",
      "Epoch 4/15\n",
      "520/520 [==============================] - 1s 3ms/step - loss: 0.0314 - accuracy: 0.9898\n",
      "Epoch 5/15\n",
      "520/520 [==============================] - 1s 3ms/step - loss: 0.0295 - accuracy: 0.9903\n",
      "Epoch 6/15\n",
      "520/520 [==============================] - 1s 3ms/step - loss: 0.0283 - accuracy: 0.9906\n",
      "Epoch 7/15\n",
      "520/520 [==============================] - 1s 3ms/step - loss: 0.0271 - accuracy: 0.9914\n",
      "Epoch 8/15\n",
      "520/520 [==============================] - 1s 3ms/step - loss: 0.0269 - accuracy: 0.9911\n",
      "Epoch 9/15\n",
      "520/520 [==============================] - 1s 3ms/step - loss: 0.0258 - accuracy: 0.9914\n",
      "Epoch 10/15\n",
      "520/520 [==============================] - 1s 3ms/step - loss: 0.0258 - accuracy: 0.9915\n",
      "Epoch 11/15\n",
      "520/520 [==============================] - 1s 3ms/step - loss: 0.0250 - accuracy: 0.9917\n",
      "Epoch 12/15\n",
      "520/520 [==============================] - 1s 3ms/step - loss: 0.0250 - accuracy: 0.9915\n",
      "Epoch 13/15\n",
      "520/520 [==============================] - 1s 3ms/step - loss: 0.0249 - accuracy: 0.9914\n",
      "Epoch 14/15\n",
      "520/520 [==============================] - 1s 3ms/step - loss: 0.0242 - accuracy: 0.9919\n",
      "Epoch 15/15\n",
      "520/520 [==============================] - 1s 3ms/step - loss: 0.0242 - accuracy: 0.9917\n"
     ]
    },
    {
     "data": {
      "text/plain": [
       "<keras.src.callbacks.History at 0x1dec67673d0>"
      ]
     },
     "execution_count": 95,
     "metadata": {},
     "output_type": "execute_result"
    }
   ],
   "source": [
    "# Training the model\n",
    "model_RNN.fit(X_train, y_train, batch_size=128, epochs=15)"
   ]
  },
  {
   "cell_type": "markdown",
   "metadata": {},
   "source": [
    "#### The above code will train the model on the training set. The fit() method takes the following arguments:\n",
    "#### X_train: The training data.\n",
    "#### y_train: The training labels.\n",
    "#### batch_size: The number of instances that are processed by the model at the same time.\n",
    "#### epochs: The number of times the model will be trained on the training data.\n",
    "\n",
    "#### The model will be trained for 15 epochs. Each epoch consists of the following steps:\n",
    "#### The model will make predictions for the training data.\n",
    "#### The model will calculate the loss for the predictions.\n",
    "#### The model will update its parameters to minimize the loss.\n",
    "#### The fit() method will stop training when the model has converged or when the maximum number of epochs has been reached."
   ]
  },
  {
   "cell_type": "markdown",
   "metadata": {},
   "source": [
    "##### Accuracy with RNN is 99.17%"
   ]
  },
  {
   "cell_type": "markdown",
   "metadata": {},
   "source": [
    "## Artifical Neural Network (ANN) :-"
   ]
  },
  {
   "cell_type": "markdown",
   "metadata": {},
   "source": [
    "#### An Artificial Neural Network (ANN) is a computational model inspired by the human brain's structure. It processes data through interconnected nodes, learning patterns and solving complex problems in machine learning."
   ]
  },
  {
   "cell_type": "code",
   "execution_count": 96,
   "metadata": {},
   "outputs": [
    {
     "data": {
      "text/plain": [
       "0.9933173793290287"
      ]
     },
     "execution_count": 96,
     "metadata": {},
     "output_type": "execute_result"
    }
   ],
   "source": [
    "# Initializing \n",
    "\n",
    "model = MLPClassifier()\n",
    "\n",
    "# Training\n",
    "\n",
    "model.fit(X_train,y_train)\n",
    "\n",
    "# Predicting\n",
    "\n",
    "y_predict=model.predict(X_test)\n",
    "\n",
    "# Testing\n",
    "\n",
    "accuracy_score(y_test,y_predict)"
   ]
  },
  {
   "cell_type": "markdown",
   "metadata": {},
   "source": [
    "#### The MLPClassifier() class is a class from the scikit-learn library that can be used to create a multi-layer perceptron (MLP) classifier model. The MLP classifier model is a type of neural network that can be used for classification tasks.\n",
    "#### A MLP is a type of ANN that has at least one hidden layer between the input layer and the output layer. The hidden layer allows the MLP to learn more complex relationships between the input and output variables.\n",
    "\n",
    "#### MLP networks are commonly used for classification and regression tasks. They can also be used for other tasks such as natural language processing and image recognition.\n",
    "#### The fit() method trains the model on the training set. The predict() method makes predictions on the test set. The accuracy_score() method calculates the accuracy score on the test set."
   ]
  },
  {
   "cell_type": "markdown",
   "metadata": {},
   "source": [
    "### Accuracy with ANN is 99.3%\n",
    "### ANN gives better scores compared to RNN."
   ]
  },
  {
   "cell_type": "markdown",
   "metadata": {
    "id": "Lt48Qq495o-e"
   },
   "source": [
    "# Conclusion:-\n",
    "\n",
    "### After creating all the models we found that ANN i.e, Artifical Neural Network gives the best results with 99.30% as compared to other models. All other model have comparitively less F1 score and Accuracy score."
   ]
  },
  {
   "cell_type": "code",
   "execution_count": null,
   "metadata": {},
   "outputs": [],
   "source": []
  }
 ],
 "metadata": {
  "colab": {
   "provenance": [
    {
     "file_id": "https://github.com/vishnuptr1/walkrun/blob/main/walkRun.ipynb",
     "timestamp": 1691158511935
    }
   ]
  },
  "kernelspec": {
   "display_name": "Python 3 (ipykernel)",
   "language": "python",
   "name": "python3"
  },
  "language_info": {
   "codemirror_mode": {
    "name": "ipython",
    "version": 3
   },
   "file_extension": ".py",
   "mimetype": "text/x-python",
   "name": "python",
   "nbconvert_exporter": "python",
   "pygments_lexer": "ipython3",
   "version": "3.9.7"
  }
 },
 "nbformat": 4,
 "nbformat_minor": 1
}
